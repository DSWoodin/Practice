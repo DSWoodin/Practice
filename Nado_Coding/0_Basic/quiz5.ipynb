{
 "cells": [
  {
   "cell_type": "markdown",
   "metadata": {},
   "source": [
    "## 파일 생성 프로그램\n",
    "\n",
    "### Quiz 5) 1주차부터 50주차까지의 보고서 파일을 만드는 프로그램을 작성하시오.\n",
    "\n",
    "조건: 파일명은 '1주차.txt', '2주차.txt', ... 와 같이 만듭니다.\n",
    "\n",
    "당신의 회사에서는 매주 1회 작성해야 하는 보고서가 있습니다.\n",
    "\n",
    "보고서는 항상 아래와 같은 형태로 출력되어야 합니다.\n",
    "\n",
    "-- X 주차 주간보고 --\n",
    "\n",
    "부서:\n",
    "\n",
    "이름:\n",
    "\n",
    "업무 요약:"
   ]
  },
  {
   "cell_type": "code",
   "execution_count": 1,
   "metadata": {},
   "outputs": [],
   "source": [
    "# 내가 쓴 답안 1\n",
    "for week in range(1,51):\n",
    "    report_file = open(str(week) + '주차.txt', 'w', encoding='utf8')\n",
    "    report_file.write('-- ' + str(week) + '주차 주간보고 --')\n",
    "    report_file.write('\\n부서 :')\n",
    "    report_file.write('\\n이름 :')\n",
    "    report_file.write('\\n업무 요약 :')\n",
    "    report_file.close()"
   ]
  },
  {
   "cell_type": "code",
   "execution_count": 4,
   "metadata": {},
   "outputs": [],
   "source": [
    "# 내가 쓴 답안 2\n",
    "for week in range(1,51):\n",
    "    with open(str(week) + '주차.txt', 'w', encoding='utf8') as report_file:\n",
    "        print('-- ' + str(week) + '주차 주간보고 --', file=report_file)\n",
    "        print('부서 :', file=report_file)\n",
    "        print('이름 :', file=report_file)\n",
    "        print('업무 요약 :', file=report_file)"
   ]
  },
  {
   "cell_type": "code",
   "execution_count": 6,
   "metadata": {},
   "outputs": [],
   "source": [
    "# 모범 답안\n",
    "for i in range(1,51):\n",
    "    with open(str(i) + '주차.txt', 'w', encoding='utf8') as report_file:\n",
    "        report_file.write('-- {0}주차 주간보고 --'.format(i))\n",
    "        report_file.write('\\n부서 :')\n",
    "        report_file.write('\\n이름 :')\n",
    "        report_file.write('\\n업무 요약 :')"
   ]
  }
 ],
 "metadata": {
  "kernelspec": {
   "display_name": "Python 3",
   "language": "python",
   "name": "python3"
  },
  "language_info": {
   "codemirror_mode": {
    "name": "ipython",
    "version": 3
   },
   "file_extension": ".py",
   "mimetype": "text/x-python",
   "name": "python",
   "nbconvert_exporter": "python",
   "pygments_lexer": "ipython3",
   "version": "3.11.2"
  }
 },
 "nbformat": 4,
 "nbformat_minor": 2
}
