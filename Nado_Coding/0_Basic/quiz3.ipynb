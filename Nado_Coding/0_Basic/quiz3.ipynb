{
 "cells": [
  {
   "cell_type": "markdown",
   "metadata": {},
   "source": [
    "## 탑승 승객 수 구하기 프로그램\n",
    "\n",
    "### Quiz 3) 당신은 Cocoa 서비스를 이용하는 택시 기사님입니다.\n",
    "\n",
    "### 50명의 승객과 매칭 기회가 있을 때, 총 탑승 승객 수를 구하는 프로그램을 작성하시오.\n",
    "\n",
    "조건1: 승객별 운행 소요 시간은 5분 ~ 50분 사이의 난수로 정해집니다.\n",
    "\n",
    "조건2: 당신은 소요 시간 5분 ~ 15분 사이의 승객만 매칭해야 합니다."
   ]
  },
  {
   "cell_type": "code",
   "execution_count": null,
   "metadata": {},
   "outputs": [],
   "source": [
    "# (출력문 예제)\n",
    "'''\n",
    "[O] 1번째 손님 (소요시간 : 15분)\n",
    "[X] 2번째 손님 (소요시간 : 50분)\n",
    "[O] 3번째 손님 (소요시간 : 5분)\n",
    "...\n",
    "[X] 50번째 손님 (소요시간 : 16분)\n",
    "\n",
    "총 탑승 승객: 2 분\n",
    "'''"
   ]
  },
  {
   "cell_type": "code",
   "execution_count": null,
   "metadata": {},
   "outputs": [],
   "source": [
    "# 내가 쓴 답안\n",
    "from random import *\n",
    "match = list(range(5,16))\n",
    "person = 1\n",
    "guest = 0\n",
    "while person <= 50:\n",
    "    time = randint(5,50)\n",
    "    if time in match:\n",
    "        print(f'[O] {person}번째 손님 (소요시간 : {time}분)')\n",
    "        guest += 1\n",
    "    else:\n",
    "        print('[ ] {0}번째 손님 (소요시간 : {1}분)'.format(person,time))\n",
    "    person += 1\n",
    "print('')\n",
    "print('총 탑승 승객: %s분' %guest)"
   ]
  },
  {
   "cell_type": "code",
   "execution_count": null,
   "metadata": {},
   "outputs": [],
   "source": [
    "# 모범 답안\n",
    "from random import *\n",
    "cnt = 0 # 총 탑승 승객 수\n",
    "for i in range(1, 51): # 1 ~ 50 이라는 수 (승객)\n",
    "    time = randrange(5, 51) # 5분 ~ 50분 소요 시간\n",
    "    if 5 <= time <= 15: # 5분 ~ 15분 이내의 손님(매칭 성공), 탑승 승객 수 증가 처리\n",
    "        print(\"[0] {0}번째 손님 (소요시간 : {1}분)\".format(i, time))\n",
    "        cnt += 1\n",
    "    else: # 매칭 실패\n",
    "        print(\"[ ] {0}번째 손님 (소요시간 : {1}분)\".format(i, time))\n",
    "print(\"총 탑승 승객 :  {0}분\".format(cnt))"
   ]
  }
 ],
 "metadata": {
  "kernelspec": {
   "display_name": "Python 3",
   "language": "python",
   "name": "python3"
  },
  "language_info": {
   "codemirror_mode": {
    "name": "ipython",
    "version": 3
   },
   "file_extension": ".py",
   "mimetype": "text/x-python",
   "name": "python",
   "nbconvert_exporter": "python",
   "pygments_lexer": "ipython3",
   "version": "3.11.2"
  }
 },
 "nbformat": 4,
 "nbformat_minor": 2
}
