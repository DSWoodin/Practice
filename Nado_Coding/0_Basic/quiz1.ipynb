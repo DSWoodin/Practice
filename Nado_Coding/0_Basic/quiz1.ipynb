{
 "cells": [
  {
   "cell_type": "markdown",
   "metadata": {},
   "source": [
    "## Password Maker\n",
    "\n",
    "### Quiz 1) 사이트 URL을 입력하면 비밀번호를 만들어 주는 프로그램을 작성하시오\n",
    "\n",
    "예) 입력: http://www.google.co.kr -> 생성된 비밀번호: goo61!\n",
    "\n",
    "규칙1 : http://www. 부분을 제외 할것 -> google.co.kr\n",
    "\n",
    "규칙2 : 처음 만나는 점(.) 이후 부분을 제외 할것 -> google\n",
    "\n",
    "규칙3 : 남은 글자 중 처음 3자리(goo) + 글자 갯수(6) + 글자 내 'e' 갯수(1) + '!'로 구성"
   ]
  },
  {
   "cell_type": "code",
   "execution_count": 1,
   "metadata": {},
   "outputs": [
    {
     "name": "stdout",
     "output_type": "stream",
     "text": [
      "생성된 비밀번호 : you71!\n"
     ]
    }
   ],
   "source": [
    "# 내가 쓴 답안\n",
    "URL = input('비밀번호를 만들고 싶은 사이트 URL(http://www.~~~)을 입력하세요: ')\n",
    "index = URL.index('.')\n",
    "URL = URL[index+1:]\n",
    "index = URL.index('.')\n",
    "URL = URL[:index]\n",
    "print('생성된 비밀번호 : ' + URL[:3] + str(len(URL)) + str(URL.count('e')) +'!')"
   ]
  },
  {
   "cell_type": "code",
   "execution_count": 3,
   "metadata": {},
   "outputs": [
    {
     "name": "stdout",
     "output_type": "stream",
     "text": [
      "생성된 비밀번호 : nav51!\n"
     ]
    }
   ],
   "source": [
    "# 모범 답안\n",
    "URL = input('비밀번호를 만들고 싶은 사이트 URL(http://www.~~~)을 입력하세요: ')\n",
    "URL = URL.replace('https://www.', '')\n",
    "URL = URL[:URL.index('.')]\n",
    "print('생성된 비밀번호 : ' + URL[:3] + str(len(URL)) + str(URL.count('e')) +'!')"
   ]
  }
 ],
 "metadata": {
  "kernelspec": {
   "display_name": "Python 3",
   "language": "python",
   "name": "python3"
  },
  "language_info": {
   "codemirror_mode": {
    "name": "ipython",
    "version": 3
   },
   "file_extension": ".py",
   "mimetype": "text/x-python",
   "name": "python",
   "nbconvert_exporter": "python",
   "pygments_lexer": "ipython3",
   "version": "3.11.2"
  }
 },
 "nbformat": 4,
 "nbformat_minor": 2
}
