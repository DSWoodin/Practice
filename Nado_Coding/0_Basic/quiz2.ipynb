{
 "cells": [
  {
   "cell_type": "markdown",
   "metadata": {},
   "source": [
    "## 추첨 프로그램\n",
    "\n",
    "### Quiz 2) 댓글 작성자들 중에 1명은 치킨, 3명은 커피 쿠폰이 당첨되는 추첨 프로그램을 작성하시오.\n",
    "\n",
    "조건1: 편의상 댓글은 20명이 작성, 아이디는 1~20 이라고 가정\n",
    "\n",
    "조건2: 댓글 내용과 상관 없이 무작위 추첨, 중복 불가\n",
    "\n",
    "조건3: random 모듈의 shuffle과 sample 활용"
   ]
  },
  {
   "cell_type": "code",
   "execution_count": null,
   "metadata": {},
   "outputs": [],
   "source": [
    "# (출력 예제)\n",
    "'''\n",
    "-- 당첨자 발표 --\n",
    "치킨 당첨자 : 1\n",
    "커피 당첨자 : [2, 3, 4]\n",
    "-- 축하합니다 --\n",
    "'''\n",
    "\n",
    "# (활용 예제)\n",
    "from random import *\n",
    "users = [1,2,3,4,5]\n",
    "print(users)\n",
    "shuffle(users)\n",
    "print(users)\n",
    "print(sample(users, 1))"
   ]
  },
  {
   "cell_type": "code",
   "execution_count": 7,
   "metadata": {},
   "outputs": [
    {
     "name": "stdout",
     "output_type": "stream",
     "text": [
      "-- 당첨자 발표 --\n",
      "치킨 당첨자 : [5]\n",
      "커피 당첨자 : [18, 9, 3]\n",
      "-- 축하합니다 --\n"
     ]
    }
   ],
   "source": [
    "# 내가 쓴 답안\n",
    "from random import *\n",
    "users = list(range(1,21))\n",
    "shuffle(users)\n",
    "chicken = (sample(users, 1))\n",
    "users = list(set(users) - set(chicken))\n",
    "coffee = (sample(users, 3))\n",
    "\n",
    "print('-- 당첨자 발표 --')\n",
    "print('치킨 당첨자 :', chicken)\n",
    "print('커피 당첨자 :', coffee)\n",
    "print('-- 축하합니다 --')"
   ]
  },
  {
   "cell_type": "code",
   "execution_count": 8,
   "metadata": {},
   "outputs": [
    {
     "name": "stdout",
     "output_type": "stream",
     "text": [
      "-- 당첨자 발표 --\n",
      "치킨 당첨자 : 2\n",
      "커피 당첨자 : [11, 10, 6]\n",
      "-- 축하합니다 --\n"
     ]
    }
   ],
   "source": [
    "# 모범 답안\n",
    "from random import *\n",
    "users = list(range(1,21))\n",
    "shuffle(users)\n",
    "winners = sample(users, 4)\n",
    "\n",
    "print('-- 당첨자 발표 --')\n",
    "print('치킨 당첨자 : {0}'.format(winners[0]))\n",
    "print('커피 당첨자 : {0}'.format(winners[1:]))\n",
    "print('-- 축하합니다 --')"
   ]
  }
 ],
 "metadata": {
  "kernelspec": {
   "display_name": "Python 3",
   "language": "python",
   "name": "python3"
  },
  "language_info": {
   "codemirror_mode": {
    "name": "ipython",
    "version": 3
   },
   "file_extension": ".py",
   "mimetype": "text/x-python",
   "name": "python",
   "nbconvert_exporter": "python",
   "pygments_lexer": "ipython3",
   "version": "3.11.2"
  }
 },
 "nbformat": 4,
 "nbformat_minor": 2
}
