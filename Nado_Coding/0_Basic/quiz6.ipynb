{
 "cells": [
  {
   "cell_type": "markdown",
   "metadata": {},
   "source": [
    "## 부동산 프로그램\n",
    "\n",
    "### Quiz 6) 주어진 코드를 활용하여 부동산 프로그램을 작성하시오.\n",
    "\n",
    "(출력 예제)\n",
    "\n",
    "총 3대의 매물이 있습니다.\n",
    "\n",
    "강남 아파트 매매 10억 2010년\n",
    "\n",
    "마포 오피스텔 전세 5억 2007년\n",
    "\n",
    "송파 빌라 월세 500/50 2000년"
   ]
  },
  {
   "cell_type": "code",
   "execution_count": 1,
   "metadata": {},
   "outputs": [],
   "source": [
    "# 코드\n",
    "class House:\n",
    "    # 매물 초기화\n",
    "    def __init__(self, location, house_type, deal_type, price, completion_year):\n",
    "        pass\n",
    "\n",
    "    # 매물 정보 표시\n",
    "    def show_detail(self):\n",
    "        pass"
   ]
  },
  {
   "cell_type": "code",
   "execution_count": 21,
   "metadata": {},
   "outputs": [
    {
     "name": "stdout",
     "output_type": "stream",
     "text": [
      "총 3대의 매물이 있습니다.\n",
      "강남 아파트 매매 10억 2010년\n",
      "마포 오피스텔 전세 5억 2007년\n",
      "송파 빌라 월세 500/50 2000년\n"
     ]
    }
   ],
   "source": [
    "# 내가 쓴 답안\n",
    "class House:\n",
    "    # 매물 초기화\n",
    "    def __init__(self, location, house_type, deal_type, price, completion_year):\n",
    "        self.location = location\n",
    "        self.house_type = house_type\n",
    "        self.deal_type = deal_type\n",
    "        self.price = price\n",
    "        self.completion_year = completion_year\n",
    "\n",
    "    # 매물 정보 표시\n",
    "    def show_detail(self):\n",
    "        print('{0} {1} {2} {3} {4}'.format(self.location, self.house_type,\\\n",
    "            self.deal_type, self.price, self.completion_year))\n",
    "\n",
    "house1 = House('강남', '아파트', '매매', '10억', '2010년')\n",
    "house2 = House('마포', '오피스텔', '전세', '5억', '2007년')\n",
    "house3 = House('송파', '빌라', '월세', '500/50', '2000년')\n",
    "houses = [house1, house2, house3]\n",
    "print('총 {0}대의 매물이 있습니다.'.format(len(houses)))\n",
    "for house in houses:\n",
    "    house.show_detail()"
   ]
  },
  {
   "cell_type": "code",
   "execution_count": 2,
   "metadata": {},
   "outputs": [
    {
     "name": "stdout",
     "output_type": "stream",
     "text": [
      "총 3대의 매물이 있습니다.\n",
      "강남 아파트 매매 10억 2010년\n",
      "마포 오피스텔 전세 5억 2007년\n",
      "송파 빌라 월세 500/50 2000년\n"
     ]
    }
   ],
   "source": [
    "# 모범 답안\n",
    "class House:\n",
    "    # 매물 초기화\n",
    "    def __init__(self, location, house_type, deal_type, price, completion_year):\n",
    "        self.location = location\n",
    "        self.house_type = house_type\n",
    "        self.deal_type = deal_type\n",
    "        self.price = price\n",
    "        self.completion_year = completion_year\n",
    "\n",
    "    # 매물 정보 표시\n",
    "    def show_detail(self):\n",
    "        print(self.location, self.house_type,\\\n",
    "            self.deal_type, self.price, self.completion_year)\n",
    "\n",
    "houses = []\n",
    "house1 = House('강남', '아파트', '매매', '10억', '2010년')\n",
    "house2 = House('마포', '오피스텔', '전세', '5억', '2007년')\n",
    "house3 = House('송파', '빌라', '월세', '500/50', '2000년')\n",
    "houses.append(house1)\n",
    "houses.append(house2)\n",
    "houses.append(house3)\n",
    "print('총 {0}대의 매물이 있습니다.'.format(len(houses)))\n",
    "for house in houses:\n",
    "    house.show_detail()"
   ]
  }
 ],
 "metadata": {
  "kernelspec": {
   "display_name": "Python 3",
   "language": "python",
   "name": "python3"
  },
  "language_info": {
   "codemirror_mode": {
    "name": "ipython",
    "version": 3
   },
   "file_extension": ".py",
   "mimetype": "text/x-python",
   "name": "python",
   "nbconvert_exporter": "python",
   "pygments_lexer": "ipython3",
   "version": "3.11.2"
  }
 },
 "nbformat": 4,
 "nbformat_minor": 2
}
