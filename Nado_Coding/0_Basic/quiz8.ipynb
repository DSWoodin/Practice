{
 "cells": [
  {
   "cell_type": "markdown",
   "metadata": {},
   "source": [
    "## Final Quiz\n",
    "\n",
    "### Quiz 8) 프로젝트 내에 나만의 시그니처를 남기는 모듈을 만드시오\n",
    "\n",
    "조건: 모듈 파일명은 byme.py 로 작성\n",
    "\n",
    "(모듈 사용 예제) \n",
    "\n",
    "import byme\n",
    "\n",
    "byme.sign()"
   ]
  },
  {
   "cell_type": "code",
   "execution_count": null,
   "metadata": {},
   "outputs": [],
   "source": [
    "# 출력 예제\n",
    "'''\n",
    "이 프로그램은 나도코딩에 의해 만들어졌습니다.\n",
    "유튜브: http://youtube.com\n",
    "이메일: nadocoding@gmail.com\n",
    "'''"
   ]
  },
  {
   "cell_type": "code",
   "execution_count": 2,
   "metadata": {},
   "outputs": [
    {
     "name": "stdout",
     "output_type": "stream",
     "text": [
      "\n",
      "이 프로그램은 나도코딩에 의해 만들어졌습니다.\n",
      "유튜브: http://youtube.com\n",
      "이메일: nadocoding@gmail.com\n",
      "\n"
     ]
    }
   ],
   "source": [
    "# 내가 쓴 답안\n",
    "import q8_byme\n",
    "q8_byme.sign()"
   ]
  },
  {
   "cell_type": "code",
   "execution_count": null,
   "metadata": {},
   "outputs": [],
   "source": [
    "# 모범 답안\n",
    "import q8_byme\n",
    "q8_byme.sign()"
   ]
  }
 ],
 "metadata": {
  "kernelspec": {
   "display_name": "Python 3",
   "language": "python",
   "name": "python3"
  },
  "language_info": {
   "codemirror_mode": {
    "name": "ipython",
    "version": 3
   },
   "file_extension": ".py",
   "mimetype": "text/x-python",
   "name": "python",
   "nbconvert_exporter": "python",
   "pygments_lexer": "ipython3",
   "version": "3.11.2"
  }
 },
 "nbformat": 4,
 "nbformat_minor": 2
}
