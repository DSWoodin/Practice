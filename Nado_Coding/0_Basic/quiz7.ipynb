{
 "cells": [
  {
   "cell_type": "markdown",
   "metadata": {},
   "source": [
    "## 예외처리 구문넣기\n",
    "\n",
    "### Quiz 7) 동네에 항상 대기 손님이 있는 맛있는 치킨집이 있습니다.\n",
    "### 대기 손님의 치킨 요리 시간을 줄이고자 자동 주문 시스템을 제작하였습니다.\n",
    "### 시스템 코드를 확인하고 적절한 예외처리 구문을 넣으시오.\n",
    "\n",
    "조건1: 1보다 작거나 숫자가 아닌 입력값이 들어올 때는 ValueError 로 처리\n",
    "* 출력 메세지: '잘못된 값을 입력하였습니다.'\n",
    "\n",
    "조건2: 대기 손님이 주문할 수 있는 총 치킨량은 10마리로 한정\n",
    "* 치킨 소진 시 사용자 정의 에러 [SoldOutError]를 발생시키고 프로그램 종료\n",
    "* 출력 메세지: '재료가 소진되어 더 이상 주문을 받지 않습니다.'"
   ]
  },
  {
   "cell_type": "code",
   "execution_count": null,
   "metadata": {},
   "outputs": [],
   "source": [
    "# 코드\n",
    "chicken = 10\n",
    "waiting = 1 # 홀 안에는 현재 만석. 대기번호 1부터 시작\n",
    "while(True):\n",
    "    print('[남은 치킨 : {0}]'.format(chicken))\n",
    "    order = int(input('치킨 몇 마리 주문하시겠습니까?'))\n",
    "    if order > chicken: # 남은 치킨보다 주문량이 많을때\n",
    "        print('재료가 부족합니다.')\n",
    "    else:\n",
    "        print('[대기번호 {0}] {1}마리 주문이 완료되었습니다.' \\\n",
    "            .format(waiting, order))\n",
    "        waiting += 1\n",
    "        chicken -= order"
   ]
  },
  {
   "cell_type": "code",
   "execution_count": 4,
   "metadata": {},
   "outputs": [
    {
     "name": "stdout",
     "output_type": "stream",
     "text": [
      "[남은 치킨 : 10]\n",
      "[대기번호 1] 3마리 주문이 완료되었습니다.\n",
      "[남은 치킨 : 7]\n",
      "잘못된 값을 입력하였습니다.\n"
     ]
    }
   ],
   "source": [
    "# 내가 쓴 답안\n",
    "class SoldOutError(Exception):\n",
    "    pass\n",
    "\n",
    "try:\n",
    "    chicken = 10\n",
    "    waiting = 1 # 홀 안에는 현재 만석. 대기번호 1부터 시작\n",
    "    while(True):\n",
    "        print('[남은 치킨 : {0}]'.format(chicken))\n",
    "        order = int(input('치킨 몇 마리 주문하시겠습니까?'))\n",
    "        if order < 1:\n",
    "            raise ValueError\n",
    "        if order > chicken: # 남은 치킨보다 주문량이 많을때\n",
    "            raise SoldOutError\n",
    "            break\n",
    "        else:\n",
    "            print('[대기번호 {0}] {1}마리 주문이 완료되었습니다.' \\\n",
    "                .format(waiting, order))\n",
    "            waiting += 1\n",
    "            chicken -= order\n",
    "except ValueError:\n",
    "    print('잘못된 값을 입력하였습니다.')\n",
    "except SoldOutError:\n",
    "    print('재료가 소진되어 더 이상 주문을 받지 않습니다.')"
   ]
  },
  {
   "cell_type": "code",
   "execution_count": 5,
   "metadata": {},
   "outputs": [
    {
     "name": "stdout",
     "output_type": "stream",
     "text": [
      "[남은 치킨 : 10]\n",
      "[대기번호 1] 3마리 주문이 완료되었습니다.\n",
      "[남은 치킨 : 7]\n",
      "잘못된 값을 입력하였습니다.\n",
      "[남은 치킨 : 7]\n",
      "잘못된 값을 입력하였습니다.\n",
      "[남은 치킨 : 7]\n",
      "재료가 부족합니다.\n",
      "[남은 치킨 : 7]\n",
      "재료가 부족합니다.\n",
      "[남은 치킨 : 7]\n",
      "[대기번호 2] 4마리 주문이 완료되었습니다.\n",
      "[남은 치킨 : 3]\n",
      "[대기번호 3] 2마리 주문이 완료되었습니다.\n",
      "[남은 치킨 : 1]\n",
      "재료가 부족합니다.\n",
      "[남은 치킨 : 1]\n",
      "[대기번호 4] 1마리 주문이 완료되었습니다.\n",
      "재료가 소진되어 더 이상 주문을 받지 않습니다.\n"
     ]
    }
   ],
   "source": [
    "# 모범 답안\n",
    "class SoldOutError(Exception):\n",
    "    pass\n",
    "\n",
    "chicken = 10\n",
    "waiting = 1 # 홀 안에는 현재 만석. 대기번호 1부터 시작\n",
    "while(True):\n",
    "    try: \n",
    "        print('[남은 치킨 : {0}]'.format(chicken))\n",
    "        order = int(input('치킨 몇 마리 주문하시겠습니까?'))\n",
    "        if order > chicken: # 남은 치킨보다 주문량이 많을때\n",
    "            print('재료가 부족합니다.')\n",
    "        elif order <= 0:\n",
    "            raise ValueError\n",
    "        else:\n",
    "            print('[대기번호 {0}] {1}마리 주문이 완료되었습니다.' \\\n",
    "                .format(waiting, order))\n",
    "            waiting += 1\n",
    "            chicken -= order\n",
    "        if chicken == 0:\n",
    "            raise SoldOutError\n",
    "    except ValueError:\n",
    "        print('잘못된 값을 입력하였습니다.')\n",
    "    except SoldOutError:\n",
    "        print('재료가 소진되어 더 이상 주문을 받지 않습니다.')\n",
    "        break"
   ]
  }
 ],
 "metadata": {
  "kernelspec": {
   "display_name": "Python 3",
   "language": "python",
   "name": "python3"
  },
  "language_info": {
   "codemirror_mode": {
    "name": "ipython",
    "version": 3
   },
   "file_extension": ".py",
   "mimetype": "text/x-python",
   "name": "python",
   "nbconvert_exporter": "python",
   "pygments_lexer": "ipython3",
   "version": "3.11.2"
  }
 },
 "nbformat": 4,
 "nbformat_minor": 2
}
