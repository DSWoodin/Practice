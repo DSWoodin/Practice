{
 "cells": [
  {
   "cell_type": "markdown",
   "metadata": {},
   "source": [
    "## CNN 필터 시각화\n",
    "#### CNN 모델은 과연 무엇을 학습하고 있을까?\n",
    "#### MNIST 데이터셋 훈련"
   ]
  },
  {
   "cell_type": "code",
   "execution_count": 1,
   "metadata": {},
   "outputs": [
    {
     "name": "stdout",
     "output_type": "stream",
     "text": [
      "[name: \"/device:CPU:0\"\n",
      "device_type: \"CPU\"\n",
      "memory_limit: 268435456\n",
      "locality {\n",
      "}\n",
      "incarnation: 7063290456899961450\n",
      "xla_global_id: -1\n",
      "]\n",
      "\n",
      "\n",
      "Initial shape or dimensions of x_train: (60000, 28, 28)\n",
      "Number of samples in our training data: 60000\n",
      "Number of labels in our training data: 60000\n",
      "Number of samples in our test data: 10000\n",
      "Number of labels in our test data: 10000\n",
      "\n",
      "\n",
      "Dimensions of x_train: (28, 28)\n",
      "Labels in y_train: (60000,)\n",
      "Dimensions of x_test: (28, 28)\n",
      "Labels in y_test: (10000,)\n"
     ]
    }
   ],
   "source": [
    "from tensorflow.keras.datasets import mnist\n",
    "\n",
    "(x_train, y_train), (x_test, y_test) = mnist.load_data()\n",
    "\n",
    "from tensorflow.python.client import device_lib\n",
    "print(device_lib.list_local_devices())\n",
    "\n",
    "print('\\n')\n",
    "print(\"Initial shape or dimensions of x_train:\", str(x_train.shape))\n",
    "print(\"Number of samples in our training data:\", str(len(x_train)))\n",
    "print(\"Number of labels in our training data:\", str(len(y_train)))\n",
    "print(\"Number of samples in our test data:\", str(len(x_test)))\n",
    "print(\"Number of labels in our test data:\", str(len(y_test)))\n",
    "\n",
    "print('\\n')\n",
    "print('Dimensions of x_train: ' + str(x_train[0].shape))\n",
    "print('Labels in y_train: ' + str(y_train.shape))\n",
    "print('Dimensions of x_test: ' + str(x_test[0].shape))\n",
    "print('Labels in y_test: ' + str(y_test.shape))"
   ]
  },
  {
   "cell_type": "code",
   "execution_count": 2,
   "metadata": {},
   "outputs": [
    {
     "name": "stdout",
     "output_type": "stream",
     "text": [
      "x_train shape: (60000, 28, 28, 1)\n",
      "60000 train samples\n",
      "10000 test samples\n",
      "Number of Classes: 10\n"
     ]
    }
   ],
   "source": [
    "img_rows = x_train[0].shape[0]\n",
    "img_cols = x_train[0].shape[1]\n",
    "\n",
    "x_train = x_train.reshape(x_train.shape[0], img_rows, img_cols, 1)\n",
    "x_test = x_test.reshape(x_test.shape[0], img_rows, img_cols, 1)\n",
    "\n",
    "input_shape = (img_rows, img_cols, 1)\n",
    "\n",
    "x_train = x_train.astype('float32')\n",
    "x_test = x_test.astype('float32')\n",
    "\n",
    "x_train /= 255.0\n",
    "x_test /= 255.0\n",
    "\n",
    "print('x_train shape:', x_train.shape)\n",
    "print(x_train.shape[0], 'train samples')\n",
    "print(x_test.shape[0], 'test samples')\n",
    "\n",
    "from tensorflow.keras.utils import to_categorical\n",
    "\n",
    "y_train = to_categorical(y_train)\n",
    "y_test = to_categorical(y_test)\n",
    "\n",
    "print('Number of Classes: ' + str(y_test.shape[1]))\n",
    "\n",
    "num_classes = y_test.shape[1]\n",
    "num_pixels = x_train.shape[1] * x_train.shape[2]"
   ]
  },
  {
   "cell_type": "code",
   "execution_count": 3,
   "metadata": {},
   "outputs": [
    {
     "name": "stderr",
     "output_type": "stream",
     "text": [
      "C:\\Users\\its\\AppData\\Roaming\\Python\\Python311\\site-packages\\keras\\src\\layers\\convolutional\\base_conv.py:107: UserWarning: Do not pass an `input_shape`/`input_dim` argument to a layer. When using Sequential models, prefer using an `Input(shape)` object as the first layer in the model instead.\n",
      "  super().__init__(activity_regularizer=activity_regularizer, **kwargs)\n"
     ]
    },
    {
     "data": {
      "text/html": [
       "<pre style=\"white-space:pre;overflow-x:auto;line-height:normal;font-family:Menlo,'DejaVu Sans Mono',consolas,'Courier New',monospace\"><span style=\"font-weight: bold\">Model: \"sequential\"</span>\n",
       "</pre>\n"
      ],
      "text/plain": [
       "\u001b[1mModel: \"sequential\"\u001b[0m\n"
      ]
     },
     "metadata": {},
     "output_type": "display_data"
    },
    {
     "data": {
      "text/html": [
       "<pre style=\"white-space:pre;overflow-x:auto;line-height:normal;font-family:Menlo,'DejaVu Sans Mono',consolas,'Courier New',monospace\">┏━━━━━━━━━━━━━━━━━━━━━━━━━━━━━━━━━┳━━━━━━━━━━━━━━━━━━━━━━━━┳━━━━━━━━━━━━━━━┓\n",
       "┃<span style=\"font-weight: bold\"> Layer (type)                    </span>┃<span style=\"font-weight: bold\"> Output Shape           </span>┃<span style=\"font-weight: bold\">       Param # </span>┃\n",
       "┡━━━━━━━━━━━━━━━━━━━━━━━━━━━━━━━━━╇━━━━━━━━━━━━━━━━━━━━━━━━╇━━━━━━━━━━━━━━━┩\n",
       "│ conv2d (<span style=\"color: #0087ff; text-decoration-color: #0087ff\">Conv2D</span>)                 │ (<span style=\"color: #00d7ff; text-decoration-color: #00d7ff\">None</span>, <span style=\"color: #00af00; text-decoration-color: #00af00\">26</span>, <span style=\"color: #00af00; text-decoration-color: #00af00\">26</span>, <span style=\"color: #00af00; text-decoration-color: #00af00\">32</span>)     │           <span style=\"color: #00af00; text-decoration-color: #00af00\">320</span> │\n",
       "├─────────────────────────────────┼────────────────────────┼───────────────┤\n",
       "│ conv2d_1 (<span style=\"color: #0087ff; text-decoration-color: #0087ff\">Conv2D</span>)               │ (<span style=\"color: #00d7ff; text-decoration-color: #00d7ff\">None</span>, <span style=\"color: #00af00; text-decoration-color: #00af00\">24</span>, <span style=\"color: #00af00; text-decoration-color: #00af00\">24</span>, <span style=\"color: #00af00; text-decoration-color: #00af00\">64</span>)     │        <span style=\"color: #00af00; text-decoration-color: #00af00\">18,496</span> │\n",
       "├─────────────────────────────────┼────────────────────────┼───────────────┤\n",
       "│ max_pooling2d (<span style=\"color: #0087ff; text-decoration-color: #0087ff\">MaxPooling2D</span>)    │ (<span style=\"color: #00d7ff; text-decoration-color: #00d7ff\">None</span>, <span style=\"color: #00af00; text-decoration-color: #00af00\">12</span>, <span style=\"color: #00af00; text-decoration-color: #00af00\">12</span>, <span style=\"color: #00af00; text-decoration-color: #00af00\">64</span>)     │             <span style=\"color: #00af00; text-decoration-color: #00af00\">0</span> │\n",
       "├─────────────────────────────────┼────────────────────────┼───────────────┤\n",
       "│ flatten (<span style=\"color: #0087ff; text-decoration-color: #0087ff\">Flatten</span>)               │ (<span style=\"color: #00d7ff; text-decoration-color: #00d7ff\">None</span>, <span style=\"color: #00af00; text-decoration-color: #00af00\">9216</span>)           │             <span style=\"color: #00af00; text-decoration-color: #00af00\">0</span> │\n",
       "├─────────────────────────────────┼────────────────────────┼───────────────┤\n",
       "│ dense (<span style=\"color: #0087ff; text-decoration-color: #0087ff\">Dense</span>)                   │ (<span style=\"color: #00d7ff; text-decoration-color: #00d7ff\">None</span>, <span style=\"color: #00af00; text-decoration-color: #00af00\">128</span>)            │     <span style=\"color: #00af00; text-decoration-color: #00af00\">1,179,776</span> │\n",
       "├─────────────────────────────────┼────────────────────────┼───────────────┤\n",
       "│ dense_1 (<span style=\"color: #0087ff; text-decoration-color: #0087ff\">Dense</span>)                 │ (<span style=\"color: #00d7ff; text-decoration-color: #00d7ff\">None</span>, <span style=\"color: #00af00; text-decoration-color: #00af00\">10</span>)             │         <span style=\"color: #00af00; text-decoration-color: #00af00\">1,290</span> │\n",
       "└─────────────────────────────────┴────────────────────────┴───────────────┘\n",
       "</pre>\n"
      ],
      "text/plain": [
       "┏━━━━━━━━━━━━━━━━━━━━━━━━━━━━━━━━━┳━━━━━━━━━━━━━━━━━━━━━━━━┳━━━━━━━━━━━━━━━┓\n",
       "┃\u001b[1m \u001b[0m\u001b[1mLayer (type)                   \u001b[0m\u001b[1m \u001b[0m┃\u001b[1m \u001b[0m\u001b[1mOutput Shape          \u001b[0m\u001b[1m \u001b[0m┃\u001b[1m \u001b[0m\u001b[1m      Param #\u001b[0m\u001b[1m \u001b[0m┃\n",
       "┡━━━━━━━━━━━━━━━━━━━━━━━━━━━━━━━━━╇━━━━━━━━━━━━━━━━━━━━━━━━╇━━━━━━━━━━━━━━━┩\n",
       "│ conv2d (\u001b[38;5;33mConv2D\u001b[0m)                 │ (\u001b[38;5;45mNone\u001b[0m, \u001b[38;5;34m26\u001b[0m, \u001b[38;5;34m26\u001b[0m, \u001b[38;5;34m32\u001b[0m)     │           \u001b[38;5;34m320\u001b[0m │\n",
       "├─────────────────────────────────┼────────────────────────┼───────────────┤\n",
       "│ conv2d_1 (\u001b[38;5;33mConv2D\u001b[0m)               │ (\u001b[38;5;45mNone\u001b[0m, \u001b[38;5;34m24\u001b[0m, \u001b[38;5;34m24\u001b[0m, \u001b[38;5;34m64\u001b[0m)     │        \u001b[38;5;34m18,496\u001b[0m │\n",
       "├─────────────────────────────────┼────────────────────────┼───────────────┤\n",
       "│ max_pooling2d (\u001b[38;5;33mMaxPooling2D\u001b[0m)    │ (\u001b[38;5;45mNone\u001b[0m, \u001b[38;5;34m12\u001b[0m, \u001b[38;5;34m12\u001b[0m, \u001b[38;5;34m64\u001b[0m)     │             \u001b[38;5;34m0\u001b[0m │\n",
       "├─────────────────────────────────┼────────────────────────┼───────────────┤\n",
       "│ flatten (\u001b[38;5;33mFlatten\u001b[0m)               │ (\u001b[38;5;45mNone\u001b[0m, \u001b[38;5;34m9216\u001b[0m)           │             \u001b[38;5;34m0\u001b[0m │\n",
       "├─────────────────────────────────┼────────────────────────┼───────────────┤\n",
       "│ dense (\u001b[38;5;33mDense\u001b[0m)                   │ (\u001b[38;5;45mNone\u001b[0m, \u001b[38;5;34m128\u001b[0m)            │     \u001b[38;5;34m1,179,776\u001b[0m │\n",
       "├─────────────────────────────────┼────────────────────────┼───────────────┤\n",
       "│ dense_1 (\u001b[38;5;33mDense\u001b[0m)                 │ (\u001b[38;5;45mNone\u001b[0m, \u001b[38;5;34m10\u001b[0m)             │         \u001b[38;5;34m1,290\u001b[0m │\n",
       "└─────────────────────────────────┴────────────────────────┴───────────────┘\n"
      ]
     },
     "metadata": {},
     "output_type": "display_data"
    },
    {
     "data": {
      "text/html": [
       "<pre style=\"white-space:pre;overflow-x:auto;line-height:normal;font-family:Menlo,'DejaVu Sans Mono',consolas,'Courier New',monospace\"><span style=\"font-weight: bold\"> Total params: </span><span style=\"color: #00af00; text-decoration-color: #00af00\">1,199,882</span> (4.58 MB)\n",
       "</pre>\n"
      ],
      "text/plain": [
       "\u001b[1m Total params: \u001b[0m\u001b[38;5;34m1,199,882\u001b[0m (4.58 MB)\n"
      ]
     },
     "metadata": {},
     "output_type": "display_data"
    },
    {
     "data": {
      "text/html": [
       "<pre style=\"white-space:pre;overflow-x:auto;line-height:normal;font-family:Menlo,'DejaVu Sans Mono',consolas,'Courier New',monospace\"><span style=\"font-weight: bold\"> Trainable params: </span><span style=\"color: #00af00; text-decoration-color: #00af00\">1,199,882</span> (4.58 MB)\n",
       "</pre>\n"
      ],
      "text/plain": [
       "\u001b[1m Trainable params: \u001b[0m\u001b[38;5;34m1,199,882\u001b[0m (4.58 MB)\n"
      ]
     },
     "metadata": {},
     "output_type": "display_data"
    },
    {
     "data": {
      "text/html": [
       "<pre style=\"white-space:pre;overflow-x:auto;line-height:normal;font-family:Menlo,'DejaVu Sans Mono',consolas,'Courier New',monospace\"><span style=\"font-weight: bold\"> Non-trainable params: </span><span style=\"color: #00af00; text-decoration-color: #00af00\">0</span> (0.00 B)\n",
       "</pre>\n"
      ],
      "text/plain": [
       "\u001b[1m Non-trainable params: \u001b[0m\u001b[38;5;34m0\u001b[0m (0.00 B)\n"
      ]
     },
     "metadata": {},
     "output_type": "display_data"
    },
    {
     "name": "stdout",
     "output_type": "stream",
     "text": [
      "None\n"
     ]
    }
   ],
   "source": [
    "from tensorflow.keras.models import Sequential\n",
    "from tensorflow.keras.layers import Dense, Dropout, Flatten\n",
    "from tensorflow.keras.layers import Conv2D, MaxPooling2D\n",
    "from tensorflow.keras import backend as K\n",
    "from tensorflow.keras.optimizers import SGD\n",
    "\n",
    "model = Sequential()\n",
    "model.add(Conv2D(32, kernel_size=(3,3), activation='relu', input_shape=input_shape))\n",
    "model.add(Conv2D(64, (3,3), activation='relu'))\n",
    "model.add(MaxPooling2D(pool_size=(2,2)))\n",
    "model.add(Flatten())\n",
    "model.add(Dense(128, activation='relu'))\n",
    "model.add(Dense(num_classes, activation='softmax'))\n",
    "\n",
    "model.compile(loss = 'categorical_crossentropy',\n",
    "              optimizer = SGD(0.001),\n",
    "              metrics = ['accuracy'])\n",
    "\n",
    "print(model.summary())"
   ]
  },
  {
   "cell_type": "code",
   "execution_count": 4,
   "metadata": {},
   "outputs": [
    {
     "name": "stdout",
     "output_type": "stream",
     "text": [
      "Epoch 1/10\n",
      "\u001b[1m469/469\u001b[0m \u001b[32m━━━━━━━━━━━━━━━━━━━━\u001b[0m\u001b[37m\u001b[0m \u001b[1m29s\u001b[0m 61ms/step - accuracy: 0.2455 - loss: 2.2551 - val_accuracy: 0.6605 - val_loss: 2.0072\n",
      "Epoch 2/10\n",
      "\u001b[1m469/469\u001b[0m \u001b[32m━━━━━━━━━━━━━━━━━━━━\u001b[0m\u001b[37m\u001b[0m \u001b[1m32s\u001b[0m 69ms/step - accuracy: 0.7016 - loss: 1.7884 - val_accuracy: 0.8201 - val_loss: 0.8762\n",
      "Epoch 3/10\n",
      "\u001b[1m469/469\u001b[0m \u001b[32m━━━━━━━━━━━━━━━━━━━━\u001b[0m\u001b[37m\u001b[0m \u001b[1m30s\u001b[0m 63ms/step - accuracy: 0.8262 - loss: 0.7498 - val_accuracy: 0.8789 - val_loss: 0.4738\n",
      "Epoch 4/10\n",
      "\u001b[1m469/469\u001b[0m \u001b[32m━━━━━━━━━━━━━━━━━━━━\u001b[0m\u001b[37m\u001b[0m \u001b[1m30s\u001b[0m 65ms/step - accuracy: 0.8725 - loss: 0.4688 - val_accuracy: 0.8933 - val_loss: 0.3787\n",
      "Epoch 5/10\n",
      "\u001b[1m469/469\u001b[0m \u001b[32m━━━━━━━━━━━━━━━━━━━━\u001b[0m\u001b[37m\u001b[0m \u001b[1m30s\u001b[0m 63ms/step - accuracy: 0.8874 - loss: 0.3930 - val_accuracy: 0.9055 - val_loss: 0.3363\n",
      "Epoch 6/10\n",
      "\u001b[1m469/469\u001b[0m \u001b[32m━━━━━━━━━━━━━━━━━━━━\u001b[0m\u001b[37m\u001b[0m \u001b[1m29s\u001b[0m 61ms/step - accuracy: 0.8990 - loss: 0.3499 - val_accuracy: 0.9117 - val_loss: 0.3098\n",
      "Epoch 7/10\n",
      "\u001b[1m469/469\u001b[0m \u001b[32m━━━━━━━━━━━━━━━━━━━━\u001b[0m\u001b[37m\u001b[0m \u001b[1m29s\u001b[0m 62ms/step - accuracy: 0.9060 - loss: 0.3234 - val_accuracy: 0.9166 - val_loss: 0.2911\n",
      "Epoch 8/10\n",
      "\u001b[1m469/469\u001b[0m \u001b[32m━━━━━━━━━━━━━━━━━━━━\u001b[0m\u001b[37m\u001b[0m \u001b[1m29s\u001b[0m 61ms/step - accuracy: 0.9096 - loss: 0.3066 - val_accuracy: 0.9217 - val_loss: 0.2751\n",
      "Epoch 9/10\n",
      "\u001b[1m469/469\u001b[0m \u001b[32m━━━━━━━━━━━━━━━━━━━━\u001b[0m\u001b[37m\u001b[0m \u001b[1m29s\u001b[0m 61ms/step - accuracy: 0.9172 - loss: 0.2868 - val_accuracy: 0.9236 - val_loss: 0.2626\n",
      "Epoch 10/10\n",
      "\u001b[1m469/469\u001b[0m \u001b[32m━━━━━━━━━━━━━━━━━━━━\u001b[0m\u001b[37m\u001b[0m \u001b[1m28s\u001b[0m 60ms/step - accuracy: 0.9203 - loss: 0.2762 - val_accuracy: 0.9260 - val_loss: 0.2511\n",
      "Test loss: 0.25107452273368835\n",
      "Test accuracy: 0.9259999990463257\n"
     ]
    }
   ],
   "source": [
    "batch_size = 128\n",
    "epochs = 10\n",
    "\n",
    "'''\n",
    "Store our results here so we can plot later\n",
    "In our fit function we specify our datasets(x_train & y_train),\n",
    "the batch size(typically 16 to 128 depending on your RAM), the number of\n",
    "epochs(usually 10 to 100) and our validation datasets(x_test & y_test)\n",
    "verbose = 1, sets our training to output performance metrics every epoch\n",
    "'''\n",
    "history = model.fit(x_train,\n",
    "                    y_train,\n",
    "                    batch_size = batch_size,\n",
    "                    epochs = epochs,\n",
    "                    verbose = 1,\n",
    "                    validation_data = (x_test, y_test))\n",
    "\n",
    "# We obtain our accuracy score using the evaluate function\n",
    "# Score holds two values, out Test loss and Accuracy\n",
    "score = model.evaluate(x_test, y_test, verbose=0)\n",
    "print('Test loss:', score[0])\n",
    "print('Test accuracy:', score[1])"
   ]
  },
  {
   "cell_type": "code",
   "execution_count": 5,
   "metadata": {},
   "outputs": [
    {
     "data": {
      "text/plain": [
       "{'conv2d': <Conv2D name=conv2d, built=True>,\n",
       " 'conv2d_1': <Conv2D name=conv2d_1, built=True>,\n",
       " 'max_pooling2d': <MaxPooling2D name=max_pooling2d, built=True>,\n",
       " 'flatten': <Flatten name=flatten, built=True>,\n",
       " 'dense': <Dense name=dense, built=True>,\n",
       " 'dense_1': <Dense name=dense_1, built=True>}"
      ]
     },
     "execution_count": 5,
     "metadata": {},
     "output_type": "execute_result"
    }
   ],
   "source": [
    "layer_dict = dict([(layer.name, layer) for layer in model.layers])\n",
    "layer_dict"
   ]
  },
  {
   "cell_type": "markdown",
   "metadata": {},
   "source": [
    "#### Convolution 필터 Shape 가져오기"
   ]
  },
  {
   "cell_type": "code",
   "execution_count": 6,
   "metadata": {},
   "outputs": [
    {
     "name": "stdout",
     "output_type": "stream",
     "text": [
      "conv2d (3, 3, 1, 32)\n",
      "conv2d_1 (3, 3, 32, 64)\n"
     ]
    }
   ],
   "source": [
    "for layer in model.layers:\n",
    "    if 'conv' not in layer.name:\n",
    "        continue\n",
    "    filters, biases = layer.get_weights()\n",
    "    print(layer.name, filters.shape)"
   ]
  },
  {
   "cell_type": "code",
   "execution_count": 7,
   "metadata": {},
   "outputs": [
    {
     "name": "stdout",
     "output_type": "stream",
     "text": [
      "(3, 3, 1, 32)\n"
     ]
    },
    {
     "data": {
      "text/plain": [
       "array([[[[-2.38358658e-02,  4.62174043e-03,  6.88223839e-02,\n",
       "           9.36029255e-02, -1.17450014e-01,  1.95317402e-01,\n",
       "           1.52989253e-01,  1.06413879e-01, -3.47482099e-04,\n",
       "           1.11174181e-01, -1.31573573e-01,  1.15917243e-01,\n",
       "          -2.67252643e-02, -5.55414371e-02,  2.12858796e-01,\n",
       "          -5.12080230e-02, -6.53569773e-02, -2.58704517e-02,\n",
       "           1.40844852e-01,  1.64078206e-01,  1.01091668e-04,\n",
       "          -8.64598528e-02,  7.79942609e-03,  3.70649248e-02,\n",
       "          -3.17216441e-02, -5.30381836e-02,  2.25934247e-03,\n",
       "           1.38639286e-01,  8.03553462e-02,  1.18933327e-01,\n",
       "           1.47866130e-01,  7.33536035e-02]],\n",
       "\n",
       "        [[-3.47670130e-02,  1.19957134e-01,  5.30330986e-02,\n",
       "           4.99960929e-02,  4.08168323e-03, -6.85821939e-03,\n",
       "          -7.95166120e-02,  1.90155223e-01, -1.17889680e-02,\n",
       "           1.17877476e-01, -6.35765493e-02,  2.07990874e-02,\n",
       "          -1.50364162e-02, -2.30192803e-02,  2.43538767e-01,\n",
       "           3.81012335e-02,  6.92631975e-02,  1.05269700e-01,\n",
       "          -4.28880565e-02,  2.64901668e-01,  1.01413772e-01,\n",
       "           9.73810628e-02, -1.29172653e-01,  1.01806074e-01,\n",
       "           8.37918464e-03,  8.71034861e-02, -4.30639759e-02,\n",
       "          -5.88247627e-02,  1.28448352e-01,  3.21626589e-02,\n",
       "          -8.00389126e-02,  6.28569275e-02]],\n",
       "\n",
       "        [[-2.72403024e-02, -9.15649310e-02, -8.31060112e-02,\n",
       "           6.79951021e-03,  2.40857825e-02,  1.37154818e-01,\n",
       "           1.31586805e-01,  1.88925713e-01, -5.99232204e-02,\n",
       "          -1.24114841e-01, -1.01231277e-01, -6.03256896e-02,\n",
       "          -1.19617134e-01,  1.45115003e-01,  2.11891681e-01,\n",
       "           1.13888048e-01, -1.46364896e-02, -1.61046032e-02,\n",
       "           1.81744158e-01,  2.95843661e-01, -4.11452837e-02,\n",
       "          -5.91664352e-02, -6.87103495e-02, -4.23223153e-02,\n",
       "           1.30749075e-02, -3.54520641e-02,  9.38845351e-02,\n",
       "           7.99095780e-02,  1.26878321e-01, -1.22483134e-01,\n",
       "          -1.26441112e-02,  1.38346061e-01]]],\n",
       "\n",
       "\n",
       "       [[[ 1.23251729e-01, -5.92008829e-02, -1.36415049e-01,\n",
       "           2.89420504e-02,  3.24736126e-02,  2.59080529e-01,\n",
       "           2.22306490e-01,  1.31556392e-01, -1.09337099e-01,\n",
       "           2.82801297e-02, -9.67849866e-02, -9.11424085e-02,\n",
       "          -1.16171457e-01,  1.21936016e-01,  1.06316237e-02,\n",
       "          -1.39230072e-01, -6.90210089e-02,  1.68391895e-02,\n",
       "           7.91482702e-02,  2.37661913e-01,  5.43927066e-02,\n",
       "           9.13029015e-02, -1.22751087e-01, -7.42063299e-02,\n",
       "          -5.30926846e-02, -3.42982076e-02, -4.12951522e-02,\n",
       "          -4.59815264e-02, -2.95093711e-02,  1.31393239e-01,\n",
       "           7.51053020e-02, -5.55654801e-02]],\n",
       "\n",
       "        [[-4.15571555e-02, -6.61461949e-02,  3.77083234e-02,\n",
       "           9.96315777e-02,  5.40466383e-02,  2.72898197e-01,\n",
       "           2.00139448e-01,  1.90128610e-01, -5.62407561e-02,\n",
       "          -1.28593087e-01, -4.47949842e-02, -6.70926198e-02,\n",
       "           2.82553080e-02,  1.57394350e-01,  1.66001126e-01,\n",
       "          -6.63518161e-02, -1.17738158e-01,  9.24899951e-02,\n",
       "           1.34614885e-01,  2.40398809e-01,  2.66626775e-02,\n",
       "          -6.61701858e-02,  3.06753237e-02, -9.03686956e-02,\n",
       "           7.43678808e-02,  2.41769478e-01,  2.02892691e-01,\n",
       "           1.75975561e-01, -1.20201513e-01, -1.41651437e-01,\n",
       "          -5.95071502e-02, -6.60354048e-02]],\n",
       "\n",
       "        [[ 1.25122339e-01,  5.16979396e-02, -9.83353239e-03,\n",
       "           6.85624266e-03, -9.87347513e-02,  2.87690043e-01,\n",
       "           9.88543928e-02,  1.20739445e-01,  1.44932484e-02,\n",
       "           1.27220917e-02, -7.94170946e-02,  3.47064212e-02,\n",
       "          -4.09310833e-02,  8.81912932e-02,  1.94264665e-01,\n",
       "          -1.22777611e-01,  1.02416515e-01,  1.68693326e-02,\n",
       "           1.61868796e-01,  3.06450874e-01, -1.81968175e-02,\n",
       "           1.24992646e-01, -5.51703237e-02,  1.23469487e-01,\n",
       "          -1.35881990e-01,  2.38052130e-01,  7.01798126e-02,\n",
       "           9.76102725e-02, -3.05753630e-02,  8.73318389e-02,\n",
       "           1.27221987e-01, -1.23932242e-01]]],\n",
       "\n",
       "\n",
       "       [[[-9.48720872e-02,  1.25941634e-01,  8.05736557e-02,\n",
       "           7.70601928e-02, -8.89057815e-02,  1.75792336e-01,\n",
       "           1.27003357e-01,  1.60747543e-01,  1.78114157e-02,\n",
       "           4.64056665e-03,  1.05659179e-01, -1.22575507e-01,\n",
       "           1.26191378e-01, -4.45270352e-03, -3.13499831e-02,\n",
       "           5.21521531e-02,  1.14409328e-02,  1.43818155e-01,\n",
       "           2.10791960e-01,  2.56341845e-01, -6.09099939e-02,\n",
       "           1.36260018e-01, -1.33189142e-01, -8.68959650e-02,\n",
       "          -8.17051008e-02,  2.00774550e-01,  1.28469273e-01,\n",
       "          -7.58238956e-02, -2.44990010e-02, -3.36759500e-02,\n",
       "           4.66201007e-02,  4.99532297e-02]],\n",
       "\n",
       "        [[-8.16278011e-02,  1.02048650e-01, -5.91128692e-02,\n",
       "           8.82645175e-02, -1.03941470e-01,  1.87408179e-01,\n",
       "           1.98297098e-01,  2.91941985e-02,  1.39070198e-01,\n",
       "           6.96713030e-02,  1.12851053e-01, -6.72874227e-02,\n",
       "          -7.28699416e-02,  1.77518591e-01, -5.04802726e-02,\n",
       "           7.51478598e-02,  8.41678530e-02, -8.93435702e-02,\n",
       "           3.60388495e-02,  2.45705739e-01,  2.38290410e-02,\n",
       "           1.46086961e-01, -1.18829012e-01, -5.46411239e-02,\n",
       "           6.48353249e-02,  1.52018175e-01,  1.63439482e-01,\n",
       "          -5.42231016e-02, -1.40823826e-01,  8.36922899e-02,\n",
       "          -2.94087790e-02,  2.41893288e-02]],\n",
       "\n",
       "        [[-1.21915013e-01,  9.90719199e-02, -1.16811536e-01,\n",
       "           5.93743697e-02, -1.27152294e-01,  2.66115785e-01,\n",
       "           4.27562594e-02,  1.41896412e-01,  9.27727495e-04,\n",
       "          -6.10495396e-02,  1.32433902e-02,  5.27053922e-02,\n",
       "           1.19558744e-01, -8.25175941e-02,  1.47353306e-01,\n",
       "           3.94545086e-02,  4.50310223e-02,  1.10302828e-01,\n",
       "           2.27533132e-01,  2.87078947e-01, -8.52062330e-02,\n",
       "           5.00278212e-02,  1.19526476e-01, -4.60038893e-02,\n",
       "           1.16515465e-01,  2.05275506e-01,  2.49017365e-02,\n",
       "           7.87060484e-02, -9.22066048e-02,  9.52697918e-02,\n",
       "          -1.15813121e-01, -7.42717460e-02]]]], dtype=float32)"
      ]
     },
     "execution_count": 7,
     "metadata": {},
     "output_type": "execute_result"
    }
   ],
   "source": [
    "# 가중치 확인하기\n",
    "\n",
    "filters, biases = model.layers[0].get_weights()\n",
    "print(filters.shape)\n",
    "filters"
   ]
  },
  {
   "cell_type": "code",
   "execution_count": 8,
   "metadata": {},
   "outputs": [
    {
     "name": "stdout",
     "output_type": "stream",
     "text": [
      "(32,)\n"
     ]
    },
    {
     "data": {
      "text/plain": [
       "array([-5.5365334e-03,  8.7184869e-03, -1.4409669e-02,  4.4347547e-04,\n",
       "       -8.3232326e-06,  3.9909821e-05,  9.1930283e-03,  2.9527657e-03,\n",
       "        2.3240494e-03,  2.0118956e-02,  2.2919666e-02,  2.4348740e-02,\n",
       "       -1.3790079e-03,  4.8789950e-03,  1.3324360e-02,  2.0957254e-05,\n",
       "        1.2946315e-02,  4.3476408e-05,  1.2304500e-04,  2.0933112e-03,\n",
       "       -4.9556687e-04,  1.9665402e-03,  1.9269388e-02, -1.1877913e-05,\n",
       "        7.6975762e-03,  1.8888967e-02,  9.5392233e-03,  1.4109630e-02,\n",
       "        2.2198872e-03, -7.2760605e-03,  7.4619352e-06,  2.2319287e-02],\n",
       "      dtype=float32)"
      ]
     },
     "execution_count": 8,
     "metadata": {},
     "output_type": "execute_result"
    }
   ],
   "source": [
    "print(biases.shape)\n",
    "biases"
   ]
  },
  {
   "cell_type": "code",
   "execution_count": 9,
   "metadata": {},
   "outputs": [
    {
     "name": "stdout",
     "output_type": "stream",
     "text": [
      "After Normalization, Min = 0.0 and Max = 1.0\n"
     ]
    }
   ],
   "source": [
    "# 0~1 사이값으로 normalize. 시각화를 위해!\n",
    "f_min, f_max = filters.min(), filters.max()\n",
    "\n",
    "filters = (filters-f_min) / (f_max-f_min)\n",
    "print(f'After Normalization, Min = {filters.min()} and Max = {filters.max()}')"
   ]
  },
  {
   "cell_type": "code",
   "execution_count": 10,
   "metadata": {},
   "outputs": [
    {
     "data": {
      "image/png": "[encoded data removed]",
      "text/plain": [
       "<Figure size 2000x1500 with 32 Axes>"
      ]
     },
     "metadata": {},
     "output_type": "display_data"
    }
   ],
   "source": [
    "import matplotlib.pyplot as plt\n",
    "import numpy as np\n",
    "\n",
    "# plot first few filters and set plot size\n",
    "n_filters, ix = 32, 1\n",
    "plt.figure(figsize=(20,15))\n",
    "\n",
    "for i in range(n_filters):\n",
    "    # get the filter\n",
    "    f = filters[:, :, :, i]\n",
    "    # print(f.shape)\n",
    "\n",
    "    # Arrange in subplot of 4 x 8\n",
    "    ax = plt.subplot(n_filters, 4, ix)\n",
    "    ax.set_xticks([])\n",
    "    ax.set_yticks([])\n",
    "\n",
    "    # plot filter channel in grayscale\n",
    "    plt.imshow(np.squeeze(f, axis=2), cmap='gray')\n",
    "    ix += 1\n",
    "\n",
    "# show the figure\n",
    "plt.show()"
   ]
  },
  {
   "cell_type": "markdown",
   "metadata": {},
   "source": [
    "#### Filter Activation"
   ]
  },
  {
   "cell_type": "code",
   "execution_count": 11,
   "metadata": {},
   "outputs": [
    {
     "ename": "ValueError",
     "evalue": "The layer sequential has never been called and thus has no defined input.",
     "output_type": "error",
     "traceback": [
      "\u001b[1;31m---------------------------------------------------------------------------\u001b[0m",
      "\u001b[1;31mValueError\u001b[0m                                Traceback (most recent call last)",
      "Cell \u001b[1;32mIn[11], line 6\u001b[0m\n\u001b[0;32m      3\u001b[0m layer_outputs \u001b[38;5;241m=\u001b[39m [layer\u001b[38;5;241m.\u001b[39moutput \u001b[38;5;28;01mfor\u001b[39;00m layer \u001b[38;5;129;01min\u001b[39;00m model\u001b[38;5;241m.\u001b[39mlayers[:\u001b[38;5;241m2\u001b[39m]]\n\u001b[0;32m      5\u001b[0m \u001b[38;5;66;03m# 입력을 주면 상응하는 출력을 돌려주는 모델 설정\u001b[39;00m\n\u001b[1;32m----> 6\u001b[0m activation_model \u001b[38;5;241m=\u001b[39m Model(inputs\u001b[38;5;241m=\u001b[39m\u001b[43mmodel\u001b[49m\u001b[38;5;241;43m.\u001b[39;49m\u001b[43minput\u001b[49m, outputs\u001b[38;5;241m=\u001b[39mlayer_outputs)\n",
      "File \u001b[1;32m~\\AppData\\Roaming\\Python\\Python311\\site-packages\\keras\\src\\ops\\operation.py:228\u001b[0m, in \u001b[0;36mOperation.input\u001b[1;34m(self)\u001b[0m\n\u001b[0;32m    218\u001b[0m \u001b[38;5;129m@property\u001b[39m\n\u001b[0;32m    219\u001b[0m \u001b[38;5;28;01mdef\u001b[39;00m \u001b[38;5;21minput\u001b[39m(\u001b[38;5;28mself\u001b[39m):\n\u001b[0;32m    220\u001b[0m \u001b[38;5;250m    \u001b[39m\u001b[38;5;124;03m\"\"\"Retrieves the input tensor(s) of a symbolic operation.\u001b[39;00m\n\u001b[0;32m    221\u001b[0m \n\u001b[0;32m    222\u001b[0m \u001b[38;5;124;03m    Only returns the tensor(s) corresponding to the *first time*\u001b[39;00m\n\u001b[1;32m   (...)\u001b[0m\n\u001b[0;32m    226\u001b[0m \u001b[38;5;124;03m        Input tensor or list of input tensors.\u001b[39;00m\n\u001b[0;32m    227\u001b[0m \u001b[38;5;124;03m    \"\"\"\u001b[39;00m\n\u001b[1;32m--> 228\u001b[0m     \u001b[38;5;28;01mreturn\u001b[39;00m \u001b[38;5;28;43mself\u001b[39;49m\u001b[38;5;241;43m.\u001b[39;49m\u001b[43m_get_node_attribute_at_index\u001b[49m\u001b[43m(\u001b[49m\u001b[38;5;241;43m0\u001b[39;49m\u001b[43m,\u001b[49m\u001b[43m \u001b[49m\u001b[38;5;124;43m\"\u001b[39;49m\u001b[38;5;124;43minput_tensors\u001b[39;49m\u001b[38;5;124;43m\"\u001b[39;49m\u001b[43m,\u001b[49m\u001b[43m \u001b[49m\u001b[38;5;124;43m\"\u001b[39;49m\u001b[38;5;124;43minput\u001b[39;49m\u001b[38;5;124;43m\"\u001b[39;49m\u001b[43m)\u001b[49m\n",
      "File \u001b[1;32m~\\AppData\\Roaming\\Python\\Python311\\site-packages\\keras\\src\\ops\\operation.py:259\u001b[0m, in \u001b[0;36mOperation._get_node_attribute_at_index\u001b[1;34m(self, node_index, attr, attr_name)\u001b[0m\n\u001b[0;32m    243\u001b[0m \u001b[38;5;250m\u001b[39m\u001b[38;5;124;03m\"\"\"Private utility to retrieves an attribute (e.g. inputs) from a node.\u001b[39;00m\n\u001b[0;32m    244\u001b[0m \n\u001b[0;32m    245\u001b[0m \u001b[38;5;124;03mThis is used to implement the properties:\u001b[39;00m\n\u001b[1;32m   (...)\u001b[0m\n\u001b[0;32m    256\u001b[0m \u001b[38;5;124;03m    The operation's attribute `attr` at the node of index `node_index`.\u001b[39;00m\n\u001b[0;32m    257\u001b[0m \u001b[38;5;124;03m\"\"\"\u001b[39;00m\n\u001b[0;32m    258\u001b[0m \u001b[38;5;28;01mif\u001b[39;00m \u001b[38;5;129;01mnot\u001b[39;00m \u001b[38;5;28mself\u001b[39m\u001b[38;5;241m.\u001b[39m_inbound_nodes:\n\u001b[1;32m--> 259\u001b[0m     \u001b[38;5;28;01mraise\u001b[39;00m \u001b[38;5;167;01mValueError\u001b[39;00m(\n\u001b[0;32m    260\u001b[0m         \u001b[38;5;124mf\u001b[39m\u001b[38;5;124m\"\u001b[39m\u001b[38;5;124mThe layer \u001b[39m\u001b[38;5;132;01m{\u001b[39;00m\u001b[38;5;28mself\u001b[39m\u001b[38;5;241m.\u001b[39mname\u001b[38;5;132;01m}\u001b[39;00m\u001b[38;5;124m has never been called \u001b[39m\u001b[38;5;124m\"\u001b[39m\n\u001b[0;32m    261\u001b[0m         \u001b[38;5;124mf\u001b[39m\u001b[38;5;124m\"\u001b[39m\u001b[38;5;124mand thus has no defined \u001b[39m\u001b[38;5;132;01m{\u001b[39;00mattr_name\u001b[38;5;132;01m}\u001b[39;00m\u001b[38;5;124m.\u001b[39m\u001b[38;5;124m\"\u001b[39m\n\u001b[0;32m    262\u001b[0m     )\n\u001b[0;32m    263\u001b[0m \u001b[38;5;28;01mif\u001b[39;00m \u001b[38;5;129;01mnot\u001b[39;00m \u001b[38;5;28mlen\u001b[39m(\u001b[38;5;28mself\u001b[39m\u001b[38;5;241m.\u001b[39m_inbound_nodes) \u001b[38;5;241m>\u001b[39m node_index:\n\u001b[0;32m    264\u001b[0m     \u001b[38;5;28;01mraise\u001b[39;00m \u001b[38;5;167;01mValueError\u001b[39;00m(\n\u001b[0;32m    265\u001b[0m         \u001b[38;5;124mf\u001b[39m\u001b[38;5;124m\"\u001b[39m\u001b[38;5;124mAsked to get \u001b[39m\u001b[38;5;132;01m{\u001b[39;00mattr_name\u001b[38;5;132;01m}\u001b[39;00m\u001b[38;5;124m at node \u001b[39m\u001b[38;5;124m\"\u001b[39m\n\u001b[0;32m    266\u001b[0m         \u001b[38;5;124mf\u001b[39m\u001b[38;5;124m\"\u001b[39m\u001b[38;5;132;01m{\u001b[39;00mnode_index\u001b[38;5;132;01m}\u001b[39;00m\u001b[38;5;124m, but the operation has only \u001b[39m\u001b[38;5;124m\"\u001b[39m\n\u001b[0;32m    267\u001b[0m         \u001b[38;5;124mf\u001b[39m\u001b[38;5;124m\"\u001b[39m\u001b[38;5;132;01m{\u001b[39;00m\u001b[38;5;28mlen\u001b[39m(\u001b[38;5;28mself\u001b[39m\u001b[38;5;241m.\u001b[39m_inbound_nodes)\u001b[38;5;132;01m}\u001b[39;00m\u001b[38;5;124m inbound nodes.\u001b[39m\u001b[38;5;124m\"\u001b[39m\n\u001b[0;32m    268\u001b[0m     )\n",
      "\u001b[1;31mValueError\u001b[0m: The layer sequential has never been called and thus has no defined input."
     ]
    }
   ],
   "source": [
    "from tensorflow.keras.models import Model\n",
    "\n",
    "layer_outputs = [layer.output for layer in model.layers[:2]]\n",
    "\n",
    "# 입력을 주면 상응하는 출력을 돌려주는 모델 설정\n",
    "activation_model = Model(inputs=model.input, outputs=layer_outputs)"
   ]
  }
 ],
 "metadata": {
  "kernelspec": {
   "display_name": "Python 3",
   "language": "python",
   "name": "python3"
  },
  "language_info": {
   "codemirror_mode": {
    "name": "ipython",
    "version": 3
   },
   "file_extension": ".py",
   "mimetype": "text/x-python",
   "name": "python",
   "nbconvert_exporter": "python",
   "pygments_lexer": "ipython3",
   "version": "3.11.2"
  }
 },
 "nbformat": 4,
 "nbformat_minor": 2
}
