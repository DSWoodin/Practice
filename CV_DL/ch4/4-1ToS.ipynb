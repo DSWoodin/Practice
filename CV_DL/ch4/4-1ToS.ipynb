{
 "cells": [
  {
   "cell_type": "markdown",
   "metadata": {},
   "source": [
    "# 에지 검출"
   ]
  },
  {
   "cell_type": "markdown",
   "metadata": {},
   "source": [
    "### 영상의 미분\n",
    "미분은 변수 $x$의 값이 미세하게 증가했을 때의 함수의 변화량이다. \n",
    "  \n",
    "${f}'(x) =\\lim_{\\delta \\rightarrow 0}\\frac{f(x+\\delta x)-f(x)}{\\delta x}$   \n",
    "\n",
    "정수 좌표를 쓰는 디지털 영상에서는 $x$의 최소 변화량이 $1$이므로 $\\delta x=1$로 한다.   \n",
    "\n",
    "${f}'(x) =\\lim_{\\delta \\rightarrow 0}\\frac{f(x+\\delta x)-f(x)}{\\delta x} = f(x+1)-f(x)$"
   ]
  },
  {
   "cell_type": "markdown",
   "metadata": {},
   "source": [
    "### 1차 미분 필터: $\\begin{bmatrix}-1&1\\end{bmatrix}$\n",
    "$\\delta x=1$일때, $f'(x) = f(x+1)-f(x)$   \n",
    "\n",
    "- 1차 미분 필터는 현재 위치 $f(x)$의 값에 $-1$을 곱하고,\n",
    "- 다음 위치 $f(x+1)$의 값에 $1$을 곱한 후,\n",
    "- 두 값을 더한 결과이다.\n",
    "\n",
    "> 따라서, 1차 미분 필터는 $\\begin{bmatrix}-1&1\\end{bmatrix}$이다."
   ]
  },
  {
   "cell_type": "markdown",
   "metadata": {},
   "source": [
    "### 2차 미분 필터: $\\begin{bmatrix}1&-2&1\\end{bmatrix}$\n",
    "$\\delta x=1$일때, $f''(x) = f(x+1)-2f(x)+f(x-1)$   \n",
    "\n",
    "- 2차 미분 필터는 다음 위치 $f(x+1)$의 값에 $1$을 곱하고,\n",
    "- 현재 위치 $f(x)$의 값에 $-2$를 곱하며,\n",
    "- 이전 위치 $f(x-1)$의 값에 $1$을 곱한 후,\n",
    "- 세 값을 더한 결과이다.\n",
    "\n",
    "> 따라서, 2차 미분 필터는 $\\begin{bmatrix}1&-2&1\\end{bmatrix}$이다."
   ]
  },
  {
   "cell_type": "markdown",
   "metadata": {},
   "source": [
    "### 프레윗 연산자와 소벨 연산자\n",
    "컨볼루션을 위한 필터는 대칭성을 위해 주로 홀수를 사용한다.\n",
    "\n",
    "앞서 설계한 에지 연산자 $\\begin{bmatrix}-1&1\\end{bmatrix}$은 너무 작고 대칭이 아니다.\n",
    "\n",
    "실제로는 $\\begin{bmatrix}-1&0&1\\end{bmatrix}$처럼 확장하여 사용한다.\n",
    " \n",
    "$f'_{x}(y,x) = f(y,x+1) - f(y,x-1)$    \n",
    "$f'_{y}(y,x) = f(y+1,x) - f(y-1,x)$\n",
    "\n",
    "위의 식을 구현하는 필터는 $u_{x}=\\begin{bmatrix}-1&0&1\\end{bmatrix}$와 $u_{y}=\\begin{bmatrix}-1\\\\0\\\\1\\end{bmatrix}$이다.\n",
    "\n",
    "이들 필터를 3 x 3 크기로 확장하면 잡음을 흡수하여 더 좋은 성능을 보인다.\n",
    "\n",
    "다음 가장 널리 쓰이는 에지 연산자인 프레윗(Prewitt) 연산자와 소벨(Sobel) 연산자이다.\n",
    "\n",
    "> 프레윗(Prewitt) 연산자: $u_{x} = \\begin{bmatrix}-1&0&1\\\\-1&0&1\\\\-1&0&1\\end{bmatrix}$ $u_{y} = \\begin{bmatrix}-1&-1&-1\\\\0&0&0\\\\1&1&1\\end{bmatrix}$\n",
    "\n",
    "> 소벨(Sobel) 연산자: $u_{x} = \\begin{bmatrix}-1&0&1\\\\-2&0&2\\\\-1&0&1\\end{bmatrix}$ $u_{y} = \\begin{bmatrix}-1&-2&-1\\\\0&0&0\\\\1&2&1\\end{bmatrix}$"
   ]
  },
  {
   "cell_type": "markdown",
   "metadata": {},
   "source": [
    "### 에지 강도와 에지 방향\n",
    "에지 강도(edge strength)는 에지일 가능성을 나타내고,   \n",
    "에지 방향(edge direction)은 에지의 진행방향을 나타낸다.   \n",
    "에지 방향은 그레이디언트 방향을 90도 회전한 방향으로 정의한다.\n",
    "\n",
    "$f'_{x}$와 $f'_{y}$는 프레윗 또는 소벨 연산자를 적용한 결과 영상을 표기하는 기호이다.\n",
    "\n",
    ">에지 강도: $s(y,x) = \\sqrt{f'_{x}(y,x)^{2}+f'_{y}(y,x)^{2}}$   \n",
    "\n",
    ">그레이디언트 방향: $d(y,x) = arctan(\\frac{f'_{y}(y,x)}{f'_{x}(y,x)})$"
   ]
  }
 ],
 "metadata": {
  "kernelspec": {
   "display_name": "Python 3",
   "language": "python",
   "name": "python3"
  },
  "language_info": {
   "codemirror_mode": {
    "name": "ipython",
    "version": 3
   },
   "file_extension": ".py",
   "mimetype": "text/x-python",
   "name": "python",
   "nbconvert_exporter": "python",
   "pygments_lexer": "ipython3",
   "version": "3.11.2"
  }
 },
 "nbformat": 4,
 "nbformat_minor": 2
}
