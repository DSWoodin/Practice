{
  "nbformat": 4,
  "nbformat_minor": 0,
  "metadata": {
    "colab": {
      "provenance": [],
      "authorship_tag": "ABX9TyOE8JxcKZv63PzvCyAjdkbr",
      "include_colab_link": true
    },
    "kernelspec": {
      "name": "python3",
      "display_name": "Python 3"
    },
    "language_info": {
      "name": "python"
    }
  },
  "cells": [
    {
      "cell_type": "markdown",
      "metadata": {
        "id": "view-in-github",
        "colab_type": "text"
      },
      "source": [
        "<a href=\"https://colab.research.google.com/github/DSWoodin/Pythonworkspace/blob/main/Hongong/DA/Appendix_A.ipynb\" target=\"_parent\"><img src=\"https://colab.research.google.com/assets/colab-badge.svg\" alt=\"Open In Colab\"/></a>"
      ]
    },
    {
      "cell_type": "markdown",
      "source": [
        "# [부록] 한발 더 나아가기: DB와 SQL"
      ],
      "metadata": {
        "id": "kVEdFncVA_ym"
      }
    },
    {
      "cell_type": "code",
      "source": [
        "# 업데이트 예정"
      ],
      "metadata": {
        "id": "NCTDaGfHBIxZ"
      },
      "execution_count": null,
      "outputs": []
    }
  ]
}