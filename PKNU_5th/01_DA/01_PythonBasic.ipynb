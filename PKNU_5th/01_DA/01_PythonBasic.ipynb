{
  "cells": [
    {
      "cell_type": "markdown",
      "metadata": {
        "id": "view-in-github",
        "colab_type": "text"
      },
      "source": [
        "<a href=\"https://colab.research.google.com/github/DSWoodin/Practice/blob/main/PKNU_5th/01_DA/01_PythonBasic.ipynb\" target=\"_parent\"><img src=\"https://colab.research.google.com/assets/colab-badge.svg\" alt=\"Open In Colab\"/></a>"
      ]
    },
    {
      "cell_type": "markdown",
      "metadata": {
        "id": "S2-Q0vi9dZze"
      },
      "source": [
        "### 강의 분량\n",
        "* 07월05일(금) 8시간\n",
        "* 07월06일(월) 1시간\n",
        "\n",
        "### 강의 자료\n",
        "* 파이썬기초\n",
        "\n",
        "### 이 장에서 배우는 것\n",
        "* 변수 할당\n",
        "* 문자열\n",
        "* len()\n",
        "* type()\n",
        "* 자료형 변환\n",
        "* input()\n",
        "* 산술 연산\n",
        "* 비교 연산\n",
        "* 논리 연산\n",
        "* random 모듈\n",
        "* if:\n",
        "* for:\n",
        "* while:\n",
        "* continue\n",
        "* def:\n",
        "* 리스트와 append()\n",
        "* 슬라이싱\n",
        "* remove(), pop()\n",
        "* index()\n",
        "* sort(), sorted(), 파라미터 reverse\n",
        "* 리스트 함축(list comprehension)\n",
        "* 튜플\n",
        "* 딕셔너리\n",
        "* lambda\n",
        "* numpy 라이브러리\n",
        "* np.array()\n",
        "* shape, ndim, dtype\n",
        "* 넘파이 인덱싱, 슬라이싱, 불리언 인덱싱\n",
        "* 2차원 배열, 인덱싱, 슬라이싱\n",
        "* np.arange()\n",
        "* np.linspace()\n",
        "* np.reshape()\n",
        "* np.flatten()"
      ]
    },
    {
      "cell_type": "markdown",
      "metadata": {
        "id": "Cz5rxFtqdZzf"
      },
      "source": [
        "## 변수 할당"
      ]
    },
    {
      "cell_type": "code",
      "execution_count": null,
      "metadata": {
        "id": "8Q19101iRo1C"
      },
      "outputs": [],
      "source": [
        "# 주석문 (comments)\n",
        "# 파이썬 변수(variable) 정의\n",
        "weight=78.2"
      ]
    },
    {
      "cell_type": "code",
      "execution_count": null,
      "metadata": {
        "colab": {
          "base_uri": "https://localhost:8080/"
        },
        "id": "ZmWTwHhPu5-v",
        "outputId": "e972cdb7-cb86-4cfa-800d-74b11fa0f244"
      },
      "outputs": [
        {
          "data": {
            "text/plain": [
              "78.2"
            ]
          },
          "execution_count": 4,
          "metadata": {},
          "output_type": "execute_result"
        }
      ],
      "source": [
        "weight"
      ]
    },
    {
      "cell_type": "code",
      "execution_count": null,
      "metadata": {
        "colab": {
          "base_uri": "https://localhost:8080/"
        },
        "id": "2R0eeggCvAYv",
        "outputId": "ad0ae2ff-a3a0-4b62-87f0-024a6eee0d57"
      },
      "outputs": [
        {
          "data": {
            "text/plain": [
              "76.9"
            ]
          },
          "execution_count": 5,
          "metadata": {},
          "output_type": "execute_result"
        }
      ],
      "source": [
        "weight=76.9\n",
        "weight"
      ]
    },
    {
      "cell_type": "code",
      "execution_count": null,
      "metadata": {
        "colab": {
          "base_uri": "https://localhost:8080/"
        },
        "id": "PaQSJJwOvG9A",
        "outputId": "df797fca-2de2-4f50-9e4c-65d9002a679b"
      },
      "outputs": [
        {
          "data": {
            "text/plain": [
              "(100, 200)"
            ]
          },
          "execution_count": 6,
          "metadata": {},
          "output_type": "execute_result"
        }
      ],
      "source": [
        "x=100\n",
        "y=200\n",
        "x,y"
      ]
    },
    {
      "cell_type": "code",
      "execution_count": null,
      "metadata": {
        "colab": {
          "base_uri": "https://localhost:8080/"
        },
        "id": "NQcFv9u4vho0",
        "outputId": "9f152850-0704-4d76-aaf2-d38f1e7e88ac"
      },
      "outputs": [
        {
          "name": "stdout",
          "output_type": "stream",
          "text": [
            "100 200\n"
          ]
        }
      ],
      "source": [
        "print(x,y)"
      ]
    },
    {
      "cell_type": "code",
      "execution_count": null,
      "metadata": {
        "colab": {
          "base_uri": "https://localhost:8080/"
        },
        "id": "I9WlMYGuwBnY",
        "outputId": "dc16ac3c-752b-4e71-f529-44807d9f6d69"
      },
      "outputs": [
        {
          "data": {
            "text/plain": [
              "1000"
            ]
          },
          "execution_count": 16,
          "metadata": {},
          "output_type": "execute_result"
        }
      ],
      "source": [
        "# 동시 할당문\n",
        "a,b=50,20\n",
        "result=a*b\n",
        "result"
      ]
    },
    {
      "cell_type": "code",
      "execution_count": null,
      "metadata": {
        "id": "Pptim1-JwbDC"
      },
      "outputs": [],
      "source": [
        "# 특수문자 : *, / & 는 변수이름으로 _ 를 제외하고는 사용하지 않는다.\n",
        "_b=100\n",
        "# 예약어(keyword) : for, if, return 는 당연히 변수명으로 사용해서는 안된다.\n"
      ]
    },
    {
      "cell_type": "markdown",
      "metadata": {
        "id": "74RHxZyodZzi"
      },
      "source": [
        "## 문자열"
      ]
    },
    {
      "cell_type": "code",
      "execution_count": null,
      "metadata": {
        "colab": {
          "base_uri": "https://localhost:8080/",
          "height": 35
        },
        "id": "VoP3BbjNxnKN",
        "outputId": "5d359720-646d-4b5e-cfbe-e8e47ba75e8b"
      },
      "outputs": [
        {
          "data": {
            "application/vnd.google.colaboratory.intrinsic+json": {
              "type": "string"
            },
            "text/plain": [
              "'Hello World'"
            ]
          },
          "execution_count": 17,
          "metadata": {},
          "output_type": "execute_result"
        }
      ],
      "source": [
        "# 문자열 (string)\n",
        "s1='Hello World'\n",
        "s1"
      ]
    },
    {
      "cell_type": "code",
      "execution_count": null,
      "metadata": {
        "colab": {
          "base_uri": "https://localhost:8080/",
          "height": 35
        },
        "id": "6xBnbuVZyEYN",
        "outputId": "10343cba-c3d2-41f2-ef5f-47bc5bad41dd"
      },
      "outputs": [
        {
          "data": {
            "application/vnd.google.colaboratory.intrinsic+json": {
              "type": "string"
            },
            "text/plain": [
              "'Hello World'"
            ]
          },
          "execution_count": 19,
          "metadata": {},
          "output_type": "execute_result"
        }
      ],
      "source": [
        "s1=\"Hello World\"\n",
        "s1"
      ]
    },
    {
      "cell_type": "code",
      "execution_count": null,
      "metadata": {
        "colab": {
          "base_uri": "https://localhost:8080/",
          "height": 111
        },
        "id": "lAZWWJbsyPyE",
        "outputId": "c55171eb-6d71-4695-97fb-d91a2b9469b5"
      },
      "outputs": [
        {
          "ename": "SyntaxError",
          "evalue": "invalid syntax (<ipython-input-21-18c2ea4e8a50>, line 1)",
          "output_type": "error",
          "traceback": [
            "\u001b[0;36m  File \u001b[0;32m\"<ipython-input-21-18c2ea4e8a50>\"\u001b[0;36m, line \u001b[0;32m1\u001b[0m\n\u001b[0;31m    message = \"철수가 \"안녕\"이라고 말했습니다.\"\u001b[0m\n\u001b[0m                    ^\u001b[0m\n\u001b[0;31mSyntaxError\u001b[0m\u001b[0;31m:\u001b[0m invalid syntax\n"
          ]
        }
      ],
      "source": [
        "message = \"철수가 \"안녕\"이라고 말했습니다.\"\n",
        "message"
      ]
    },
    {
      "cell_type": "code",
      "execution_count": null,
      "metadata": {
        "colab": {
          "base_uri": "https://localhost:8080/",
          "height": 35
        },
        "id": "gvEpzzwEyh-C",
        "outputId": "2dc2ca70-5cfd-422c-eef8-cdd1d5bf8ace"
      },
      "outputs": [
        {
          "data": {
            "application/vnd.google.colaboratory.intrinsic+json": {
              "type": "string"
            },
            "text/plain": [
              "'철수가 \"안녕\"이라고 말했습니다.'"
            ]
          },
          "execution_count": 22,
          "metadata": {},
          "output_type": "execute_result"
        }
      ],
      "source": [
        "message = '철수가 \"안녕\"이라고 말했습니다.'\n",
        "message"
      ]
    },
    {
      "cell_type": "markdown",
      "metadata": {
        "id": "JT-RynzidZzj"
      },
      "source": [
        "## len()"
      ]
    },
    {
      "cell_type": "code",
      "execution_count": null,
      "metadata": {
        "colab": {
          "base_uri": "https://localhost:8080/"
        },
        "id": "nN9PrIL1EQh8",
        "outputId": "19098a3d-a76d-40b1-9960-fd2c18ed6008"
      },
      "outputs": [
        {
          "data": {
            "text/plain": [
              "18"
            ]
          },
          "execution_count": 25,
          "metadata": {},
          "output_type": "execute_result"
        }
      ],
      "source": [
        "# 변수 정의, 값(숫자형, 문자열) 할당, 함수\n",
        "# 함수에서는 input의 형태, return 값의 형태\n",
        "a1=len(message)\n",
        "a1"
      ]
    },
    {
      "cell_type": "code",
      "execution_count": null,
      "metadata": {
        "colab": {
          "base_uri": "https://localhost:8080/",
          "height": 35
        },
        "id": "1tdAg1LME3Ke",
        "outputId": "5df6a8fb-2395-4064-e551-b881af90cc57"
      },
      "outputs": [
        {
          "data": {
            "application/vnd.google.colaboratory.intrinsic+json": {
              "type": "string"
            },
            "text/plain": [
              "'HelloWorld'"
            ]
          },
          "execution_count": 26,
          "metadata": {},
          "output_type": "execute_result"
        }
      ],
      "source": [
        "s1=\"Hello\"\n",
        "s2=\"World\"\n",
        "s1+s2"
      ]
    },
    {
      "cell_type": "code",
      "execution_count": null,
      "metadata": {
        "colab": {
          "base_uri": "https://localhost:8080/"
        },
        "id": "7OCCgcfBFNtS",
        "outputId": "aa50ada9-d2c0-46c2-a60d-04811d26438a"
      },
      "outputs": [
        {
          "data": {
            "text/plain": [
              "300"
            ]
          },
          "execution_count": 27,
          "metadata": {},
          "output_type": "execute_result"
        }
      ],
      "source": [
        "n1=100\n",
        "n2=200\n",
        "n1+n2"
      ]
    },
    {
      "cell_type": "code",
      "execution_count": null,
      "metadata": {
        "colab": {
          "base_uri": "https://localhost:8080/",
          "height": 35
        },
        "id": "JbSMEgfjFWR6",
        "outputId": "7f56e170-2ffc-458a-a141-101690f58e24"
      },
      "outputs": [
        {
          "data": {
            "application/vnd.google.colaboratory.intrinsic+json": {
              "type": "string"
            },
            "text/plain": [
              "'100200'"
            ]
          },
          "execution_count": 28,
          "metadata": {},
          "output_type": "execute_result"
        }
      ],
      "source": [
        "n1='100'\n",
        "n2='200'\n",
        "n1+n2"
      ]
    },
    {
      "cell_type": "code",
      "execution_count": null,
      "metadata": {
        "colab": {
          "base_uri": "https://localhost:8080/",
          "height": 184
        },
        "id": "1KT3ZLDaFaho",
        "outputId": "40a93a70-4bee-4549-eaaf-0b17e4a48344"
      },
      "outputs": [
        {
          "ename": "TypeError",
          "evalue": "can only concatenate str (not \"int\") to str",
          "output_type": "error",
          "traceback": [
            "\u001b[0;31m---------------------------------------------------------------------------\u001b[0m",
            "\u001b[0;31mTypeError\u001b[0m                                 Traceback (most recent call last)",
            "\u001b[0;32m<ipython-input-29-f644c20f3d0c>\u001b[0m in \u001b[0;36m<cell line: 3>\u001b[0;34m()\u001b[0m\n\u001b[1;32m      1\u001b[0m \u001b[0mn1\u001b[0m\u001b[0;34m=\u001b[0m\u001b[0;34m'100'\u001b[0m\u001b[0;34m\u001b[0m\u001b[0;34m\u001b[0m\u001b[0m\n\u001b[1;32m      2\u001b[0m \u001b[0mn2\u001b[0m\u001b[0;34m=\u001b[0m\u001b[0;36m200\u001b[0m\u001b[0;34m\u001b[0m\u001b[0;34m\u001b[0m\u001b[0m\n\u001b[0;32m----> 3\u001b[0;31m \u001b[0mn1\u001b[0m\u001b[0;34m+\u001b[0m\u001b[0mn2\u001b[0m\u001b[0;34m\u001b[0m\u001b[0;34m\u001b[0m\u001b[0m\n\u001b[0m",
            "\u001b[0;31mTypeError\u001b[0m: can only concatenate str (not \"int\") to str"
          ]
        }
      ],
      "source": [
        "n1='100'\n",
        "n2=200\n",
        "n1+n2"
      ]
    },
    {
      "cell_type": "markdown",
      "metadata": {
        "id": "2vMrX4wSdZzl"
      },
      "source": [
        "## type()"
      ]
    },
    {
      "cell_type": "code",
      "execution_count": null,
      "metadata": {
        "id": "W4yjm1sYGDeg"
      },
      "outputs": [],
      "source": [
        "# 자료의 형태 : int, float, str, bool\n",
        "# int : 정수형, -3, -2, -1, 0, 1, 2, 3 (어떤 범위안 정수의 개수 유한)\n",
        "# float : 실수형, 3.14, 4.28, ... (어떤 범위안 실수의 개수 무한 : 1=>0.999999999999999999999)\n",
        "# str : 문자열 'Hellow world', \"100\"\n",
        "# bool : True(=1), False(=0), 조건연산시"
      ]
    },
    {
      "cell_type": "code",
      "execution_count": null,
      "metadata": {
        "colab": {
          "base_uri": "https://localhost:8080/"
        },
        "id": "Ve_Y2kTIHEVB",
        "outputId": "9091a31e-fa67-407e-9357-da791a13bf22"
      },
      "outputs": [
        {
          "data": {
            "text/plain": [
              "float"
            ]
          },
          "execution_count": 30,
          "metadata": {},
          "output_type": "execute_result"
        }
      ],
      "source": [
        "weight=78.2\n",
        "type(weight)"
      ]
    },
    {
      "cell_type": "code",
      "execution_count": null,
      "metadata": {
        "colab": {
          "base_uri": "https://localhost:8080/"
        },
        "id": "c3PCeYLLHONh",
        "outputId": "e0d7754a-56e0-4b8d-ce8f-647438c0585d"
      },
      "outputs": [
        {
          "data": {
            "text/plain": [
              "int"
            ]
          },
          "execution_count": 31,
          "metadata": {},
          "output_type": "execute_result"
        }
      ],
      "source": [
        "salary=250\n",
        "type(salary)"
      ]
    },
    {
      "cell_type": "code",
      "execution_count": null,
      "metadata": {
        "colab": {
          "base_uri": "https://localhost:8080/"
        },
        "id": "esWN1ZdfHTx-",
        "outputId": "6adc2f48-4176-4c2a-e096-dc616af69549"
      },
      "outputs": [
        {
          "data": {
            "text/plain": [
              "str"
            ]
          },
          "execution_count": 32,
          "metadata": {},
          "output_type": "execute_result"
        }
      ],
      "source": [
        "name='홍길동'\n",
        "type(name)"
      ]
    },
    {
      "cell_type": "code",
      "execution_count": null,
      "metadata": {
        "colab": {
          "base_uri": "https://localhost:8080/"
        },
        "id": "EU3U243IHX1s",
        "outputId": "42cba976-85e6-4ff6-fffe-919304190777"
      },
      "outputs": [
        {
          "data": {
            "text/plain": [
              "bool"
            ]
          },
          "execution_count": 33,
          "metadata": {},
          "output_type": "execute_result"
        }
      ],
      "source": [
        "bool1=True\n",
        "type(bool1)"
      ]
    },
    {
      "cell_type": "markdown",
      "metadata": {
        "id": "9uncklO8dZzl"
      },
      "source": [
        "## 산술연산"
      ]
    },
    {
      "cell_type": "code",
      "execution_count": null,
      "metadata": {
        "colab": {
          "base_uri": "https://localhost:8080/"
        },
        "id": "W5_g1ZytH9Yc",
        "outputId": "82addda7-4ebe-4374-965f-3195247cca0b"
      },
      "outputs": [
        {
          "data": {
            "text/plain": [
              "30"
            ]
          },
          "execution_count": 34,
          "metadata": {},
          "output_type": "execute_result"
        }
      ],
      "source": [
        "# 자료형태에 따른 연산\n",
        "x=10\n",
        "y=20\n",
        "x+y"
      ]
    },
    {
      "cell_type": "code",
      "execution_count": null,
      "metadata": {
        "colab": {
          "base_uri": "https://localhost:8080/",
          "height": 35
        },
        "id": "YuN4vdLqIRhY",
        "outputId": "17cb9da3-467c-406a-961f-fe90ef6d261c"
      },
      "outputs": [
        {
          "data": {
            "application/vnd.google.colaboratory.intrinsic+json": {
              "type": "string"
            },
            "text/plain": [
              "'goodmorning'"
            ]
          },
          "execution_count": 35,
          "metadata": {},
          "output_type": "execute_result"
        }
      ],
      "source": [
        "x='good'\n",
        "y='morning'\n",
        "x+y"
      ]
    },
    {
      "cell_type": "code",
      "execution_count": null,
      "metadata": {
        "colab": {
          "base_uri": "https://localhost:8080/",
          "height": 35
        },
        "id": "8KJotrd3IYfk",
        "outputId": "ab12ce11-4171-4911-95d7-8e565a82cd04"
      },
      "outputs": [
        {
          "data": {
            "application/vnd.google.colaboratory.intrinsic+json": {
              "type": "string"
            },
            "text/plain": [
              "'2310'"
            ]
          },
          "execution_count": 36,
          "metadata": {},
          "output_type": "execute_result"
        }
      ],
      "source": [
        "'23'+'10'"
      ]
    },
    {
      "cell_type": "code",
      "execution_count": null,
      "metadata": {
        "colab": {
          "base_uri": "https://localhost:8080/"
        },
        "id": "TMlDeqB2IdFA",
        "outputId": "f5c08649-a1f2-4d2a-d502-ac5d45200639"
      },
      "outputs": [
        {
          "data": {
            "text/plain": [
              "33"
            ]
          },
          "execution_count": 37,
          "metadata": {},
          "output_type": "execute_result"
        }
      ],
      "source": [
        "23+10"
      ]
    },
    {
      "cell_type": "code",
      "execution_count": null,
      "metadata": {
        "colab": {
          "base_uri": "https://localhost:8080/",
          "height": 148
        },
        "id": "2azkxnVtIhD7",
        "outputId": "56ed7415-2f41-4244-813a-a26ecdc8ca17"
      },
      "outputs": [
        {
          "ename": "TypeError",
          "evalue": "unsupported operand type(s) for +: 'int' and 'str'",
          "output_type": "error",
          "traceback": [
            "\u001b[0;31m---------------------------------------------------------------------------\u001b[0m",
            "\u001b[0;31mTypeError\u001b[0m                                 Traceback (most recent call last)",
            "\u001b[0;32m<ipython-input-38-4ee01bd8bc32>\u001b[0m in \u001b[0;36m<cell line: 1>\u001b[0;34m()\u001b[0m\n\u001b[0;32m----> 1\u001b[0;31m \u001b[0;36m100\u001b[0m\u001b[0;34m+\u001b[0m\u001b[0;34m'원'\u001b[0m\u001b[0;34m\u001b[0m\u001b[0;34m\u001b[0m\u001b[0m\n\u001b[0m",
            "\u001b[0;31mTypeError\u001b[0m: unsupported operand type(s) for +: 'int' and 'str'"
          ]
        }
      ],
      "source": [
        "100+'원'"
      ]
    },
    {
      "cell_type": "markdown",
      "metadata": {
        "id": "EdYxuXP4dZzn"
      },
      "source": [
        "## 자료형 변환"
      ]
    },
    {
      "cell_type": "code",
      "execution_count": null,
      "metadata": {
        "id": "Dzj7ct8pIj54"
      },
      "outputs": [],
      "source": [
        "# 자료형 변환\n",
        "# str(), int(), float()"
      ]
    },
    {
      "cell_type": "code",
      "execution_count": null,
      "metadata": {
        "colab": {
          "base_uri": "https://localhost:8080/"
        },
        "id": "qciOila6IwAo",
        "outputId": "6861bec4-598f-46a8-c341-b9b275d60aa9"
      },
      "outputs": [
        {
          "name": "stdout",
          "output_type": "stream",
          "text": [
            "100원\n",
            "100\n"
          ]
        }
      ],
      "source": [
        "print(str(100)+'원')\n",
        "print(str(100))"
      ]
    },
    {
      "cell_type": "code",
      "execution_count": null,
      "metadata": {
        "colab": {
          "base_uri": "https://localhost:8080/",
          "height": 35
        },
        "id": "Pdug6Ru5I_8j",
        "outputId": "7e48be56-d478-4c63-db2f-8cc1286fd154"
      },
      "outputs": [
        {
          "data": {
            "application/vnd.google.colaboratory.intrinsic+json": {
              "type": "string"
            },
            "text/plain": [
              "'3.14'"
            ]
          },
          "execution_count": 42,
          "metadata": {},
          "output_type": "execute_result"
        }
      ],
      "source": [
        "str(3.14)"
      ]
    },
    {
      "cell_type": "code",
      "execution_count": null,
      "metadata": {
        "colab": {
          "base_uri": "https://localhost:8080/"
        },
        "id": "owUlWzNkJChb",
        "outputId": "202ede03-3398-4242-e07e-2d49c0127207"
      },
      "outputs": [
        {
          "data": {
            "text/plain": [
              "100"
            ]
          },
          "execution_count": 43,
          "metadata": {},
          "output_type": "execute_result"
        }
      ],
      "source": [
        "int(\"100\")"
      ]
    },
    {
      "cell_type": "code",
      "execution_count": null,
      "metadata": {
        "colab": {
          "base_uri": "https://localhost:8080/"
        },
        "id": "9NbbwK_1JGSI",
        "outputId": "0f6ad165-570e-4791-adac-e8b2096aa4e6"
      },
      "outputs": [
        {
          "data": {
            "text/plain": [
              "100.0"
            ]
          },
          "execution_count": 44,
          "metadata": {},
          "output_type": "execute_result"
        }
      ],
      "source": [
        "float(\"100\")"
      ]
    },
    {
      "cell_type": "code",
      "execution_count": null,
      "metadata": {
        "colab": {
          "base_uri": "https://localhost:8080/"
        },
        "id": "HKCYkcteJKx7",
        "outputId": "450ef574-c99b-4d0e-ba81-fe978756df60"
      },
      "outputs": [
        {
          "name": "stdout",
          "output_type": "stream",
          "text": [
            "100\n",
            "100.0\n"
          ]
        }
      ],
      "source": [
        "print(int(100.0))\n",
        "print(float(100))"
      ]
    },
    {
      "cell_type": "markdown",
      "metadata": {
        "id": "AQ_gS9JXdZzo"
      },
      "source": [
        "## input()"
      ]
    },
    {
      "cell_type": "code",
      "execution_count": null,
      "metadata": {
        "colab": {
          "base_uri": "https://localhost:8080/"
        },
        "id": "ohF-m-BbKUOQ",
        "outputId": "b6680469-5142-4b30-d7c5-6d53068fadb1"
      },
      "outputs": [
        {
          "name": "stdout",
          "output_type": "stream",
          "text": [
            "첫번째 숫자를 입력하세요.100\n",
            "두번째 숫자를 입력하세요.200\n",
            "100 과 200 의 합은 300 입니다.\n"
          ]
        }
      ],
      "source": [
        "# input 함수\n",
        "x=int(input(\"첫번째 숫자를 입력하세요.\"))\n",
        "y=int(input(\"두번째 숫자를 입력하세요.\"))\n",
        "s=x+y\n",
        "print(x, \"과\", y, \"의 합은\", s, \"입니다.\")"
      ]
    },
    {
      "cell_type": "code",
      "execution_count": null,
      "metadata": {
        "colab": {
          "base_uri": "https://localhost:8080/"
        },
        "id": "HdI5qLQFLnu2",
        "outputId": "0b54dae8-d7d7-4457-9921-48ed31ee9607"
      },
      "outputs": [
        {
          "name": "stdout",
          "output_type": "stream",
          "text": [
            "첫번째 숫자를 입력하세요.100\n",
            "두번째 숫자를 입력하세요.200\n",
            "100 과 200 의 합은 100200 입니다.\n"
          ]
        }
      ],
      "source": [
        "# input 함수\n",
        "x=input(\"첫번째 숫자를 입력하세요.\")\n",
        "y=input(\"두번째 숫자를 입력하세요.\")\n",
        "s=x+y\n",
        "print(x, \"과\", y, \"의 합은\", s, \"입니다.\")"
      ]
    },
    {
      "cell_type": "code",
      "execution_count": null,
      "metadata": {
        "colab": {
          "base_uri": "https://localhost:8080/"
        },
        "id": "hypoYQ_ZMvXI",
        "outputId": "8c241238-c004-46a0-f93a-46b5d6d70205"
      },
      "outputs": [
        {
          "name": "stdout",
          "output_type": "stream",
          "text": [
            "30\n"
          ]
        }
      ],
      "source": [
        "# 할당(assignment)\n",
        "x=10\n",
        "y=20\n",
        "z=x+y\n",
        "print(z)"
      ]
    },
    {
      "cell_type": "code",
      "execution_count": null,
      "metadata": {
        "colab": {
          "base_uri": "https://localhost:8080/"
        },
        "collapsed": true,
        "id": "g-14iDn-M-yW",
        "outputId": "b574dbc1-c897-4ee9-eede-bc040d83276a"
      },
      "outputs": [
        {
          "ename": "SyntaxError",
          "evalue": "cannot assign to expression here. Maybe you meant '==' instead of '='? (<ipython-input-59-9ff3e59df83a>, line 1)",
          "output_type": "error",
          "traceback": [
            "\u001b[0;36m  File \u001b[0;32m\"<ipython-input-59-9ff3e59df83a>\"\u001b[0;36m, line \u001b[0;32m1\u001b[0m\n\u001b[0;31m    10+20=z\u001b[0m\n\u001b[0m    ^\u001b[0m\n\u001b[0;31mSyntaxError\u001b[0m\u001b[0;31m:\u001b[0m cannot assign to expression here. Maybe you meant '==' instead of '='?\n"
          ]
        }
      ],
      "source": [
        "10+20=z # 오른쪽으로 assignment error"
      ]
    },
    {
      "cell_type": "code",
      "execution_count": null,
      "metadata": {
        "colab": {
          "base_uri": "https://localhost:8080/"
        },
        "id": "m2Pyk7XtNGj7",
        "outputId": "8a3bd9ca-6583-4230-97ce-9f77aa42b8b9"
      },
      "outputs": [
        {
          "name": "stdout",
          "output_type": "stream",
          "text": [
            "200 200\n"
          ]
        }
      ],
      "source": [
        "# 다중 할당\n",
        "x = y =200 # (1) y=200, (2) x=y\n",
        "print(x,y)"
      ]
    },
    {
      "cell_type": "code",
      "execution_count": null,
      "metadata": {
        "colab": {
          "base_uri": "https://localhost:8080/"
        },
        "id": "aZBYOyw3NScK",
        "outputId": "e6315ab4-0d05-4278-b74e-11ad3a9dcda3"
      },
      "outputs": [
        {
          "name": "stdout",
          "output_type": "stream",
          "text": [
            "100 200\n"
          ]
        }
      ],
      "source": [
        "n1,n2=100,200 # (1) n1=100 (2) n2=200\n",
        "print(n1,n2)"
      ]
    },
    {
      "cell_type": "code",
      "execution_count": null,
      "metadata": {
        "colab": {
          "base_uri": "https://localhost:8080/"
        },
        "id": "avyeAgOaORGS",
        "outputId": "f4f7a15e-0eb2-4f24-d2f9-d92ad30fcf48"
      },
      "outputs": [
        {
          "name": "stdout",
          "output_type": "stream",
          "text": [
            "11\n",
            "3\n",
            "28\n",
            "1.75\n"
          ]
        }
      ],
      "source": [
        "# 산술연산자(arithmetic operator)\n",
        "print(7+4)\n",
        "print(7-4)\n",
        "print(7*4)\n",
        "print(7/4)"
      ]
    },
    {
      "cell_type": "code",
      "execution_count": null,
      "metadata": {
        "colab": {
          "base_uri": "https://localhost:8080/"
        },
        "id": "Vr7mP2WjOdUD",
        "outputId": "9870e6f6-f4eb-4732-f52c-27c4b09e289c"
      },
      "outputs": [
        {
          "name": "stdout",
          "output_type": "stream",
          "text": [
            "2401\n"
          ]
        }
      ],
      "source": [
        "print(7**4) # 지수"
      ]
    },
    {
      "cell_type": "code",
      "execution_count": null,
      "metadata": {
        "colab": {
          "base_uri": "https://localhost:8080/"
        },
        "id": "hnAxibTtOj1X",
        "outputId": "cb693b51-88b6-4959-d52e-5a650b993d8c"
      },
      "outputs": [
        {
          "name": "stdout",
          "output_type": "stream",
          "text": [
            "1\n",
            "3\n"
          ]
        }
      ],
      "source": [
        "print(7//4) # 몫\n",
        "print(7%4) # 나머지"
      ]
    },
    {
      "cell_type": "code",
      "execution_count": null,
      "metadata": {
        "colab": {
          "base_uri": "https://localhost:8080/"
        },
        "id": "99SB-C-dSAD_",
        "outputId": "064d9b98-f539-4337-a4df-fa335e888b2a"
      },
      "outputs": [
        {
          "data": {
            "text/plain": [
              "128"
            ]
          },
          "execution_count": 66,
          "metadata": {},
          "output_type": "execute_result"
        }
      ],
      "source": [
        "2**7"
      ]
    },
    {
      "cell_type": "code",
      "execution_count": null,
      "metadata": {
        "colab": {
          "base_uri": "https://localhost:8080/"
        },
        "id": "N-WOgYeXSEeC",
        "outputId": "44e4294c-36b0-493e-b25e-6af758eb4cb2"
      },
      "outputs": [
        {
          "data": {
            "text/plain": [
              "18"
            ]
          },
          "execution_count": 69,
          "metadata": {},
          "output_type": "execute_result"
        }
      ],
      "source": [
        "2*(3**2) #연산자 운선순위가 혼동 ==> () 연산자를 적극 활용"
      ]
    },
    {
      "cell_type": "code",
      "execution_count": null,
      "metadata": {
        "colab": {
          "base_uri": "https://localhost:8080/"
        },
        "id": "EtzMN1yITMby",
        "outputId": "382f4744-19c3-45be-b210-564e6ab5f671"
      },
      "outputs": [
        {
          "data": {
            "text/plain": [
              "8"
            ]
          },
          "execution_count": 73,
          "metadata": {},
          "output_type": "execute_result"
        }
      ],
      "source": [
        "2+3*2"
      ]
    },
    {
      "cell_type": "code",
      "execution_count": null,
      "metadata": {
        "colab": {
          "base_uri": "https://localhost:8080/"
        },
        "id": "dzNLWVyDSWZj",
        "outputId": "1cc14098-f678-4682-dee5-949e8b2b5e49"
      },
      "outputs": [
        {
          "data": {
            "text/plain": [
              "36"
            ]
          },
          "execution_count": 70,
          "metadata": {},
          "output_type": "execute_result"
        }
      ],
      "source": [
        "(2*3)**2"
      ]
    },
    {
      "cell_type": "code",
      "execution_count": null,
      "metadata": {
        "colab": {
          "base_uri": "https://localhost:8080/"
        },
        "id": "489HnkjGSeB3",
        "outputId": "86651a85-b077-4800-f822-876c19f2b2ce"
      },
      "outputs": [
        {
          "name": "stdout",
          "output_type": "stream",
          "text": [
            "300\n"
          ]
        }
      ],
      "source": [
        "num=200\n",
        "num+=100 # num=num+100\n",
        "print(num)"
      ]
    },
    {
      "cell_type": "code",
      "execution_count": null,
      "metadata": {
        "colab": {
          "base_uri": "https://localhost:8080/"
        },
        "id": "Vl6YtieUSoUF",
        "outputId": "3f6c5a57-9558-4a04-ee01-9d14c3ff7663"
      },
      "outputs": [
        {
          "name": "stdout",
          "output_type": "stream",
          "text": [
            "100\n"
          ]
        }
      ],
      "source": [
        "num=200\n",
        "num-=100 # num=num-100\n",
        "print(num)"
      ]
    },
    {
      "cell_type": "markdown",
      "metadata": {
        "id": "4AsJ8RfydZzr"
      },
      "source": [
        "## 비교 연산"
      ]
    },
    {
      "cell_type": "code",
      "execution_count": null,
      "metadata": {
        "id": "r-WxZc90T24F"
      },
      "outputs": [],
      "source": [
        "a, b = 100, 200"
      ]
    },
    {
      "cell_type": "code",
      "execution_count": null,
      "metadata": {
        "colab": {
          "base_uri": "https://localhost:8080/"
        },
        "id": "Fi1hlCaJT5np",
        "outputId": "7545b7b3-ea52-4b07-af00-76ff235d5863"
      },
      "outputs": [
        {
          "data": {
            "text/plain": [
              "False"
            ]
          },
          "execution_count": 75,
          "metadata": {},
          "output_type": "execute_result"
        }
      ],
      "source": [
        "a==b"
      ]
    },
    {
      "cell_type": "code",
      "execution_count": null,
      "metadata": {
        "colab": {
          "base_uri": "https://localhost:8080/"
        },
        "id": "cM3IXobpT-GY",
        "outputId": "d4ac9ab6-f55e-4dc9-a5a7-6a307e61ffa4"
      },
      "outputs": [
        {
          "data": {
            "text/plain": [
              "True"
            ]
          },
          "execution_count": 76,
          "metadata": {},
          "output_type": "execute_result"
        }
      ],
      "source": [
        "a!=b"
      ]
    },
    {
      "cell_type": "code",
      "execution_count": null,
      "metadata": {
        "colab": {
          "base_uri": "https://localhost:8080/"
        },
        "id": "IZQLz0tFUD_u",
        "outputId": "98231234-5837-4a7b-a925-b177d78b4bc7"
      },
      "outputs": [
        {
          "data": {
            "text/plain": [
              "False"
            ]
          },
          "execution_count": 77,
          "metadata": {},
          "output_type": "execute_result"
        }
      ],
      "source": [
        "a >= b"
      ]
    },
    {
      "cell_type": "code",
      "execution_count": null,
      "metadata": {
        "colab": {
          "base_uri": "https://localhost:8080/",
          "height": 111
        },
        "id": "IdmutPsZUF_e",
        "outputId": "8e764380-c3c8-42bd-eeac-196ddae6ca21"
      },
      "outputs": [
        {
          "ename": "SyntaxError",
          "evalue": "invalid syntax (<ipython-input-78-81fa1d79b65f>, line 1)",
          "output_type": "error",
          "traceback": [
            "\u001b[0;36m  File \u001b[0;32m\"<ipython-input-78-81fa1d79b65f>\"\u001b[0;36m, line \u001b[0;32m1\u001b[0m\n\u001b[0;31m    a > = b\u001b[0m\n\u001b[0m        ^\u001b[0m\n\u001b[0;31mSyntaxError\u001b[0m\u001b[0;31m:\u001b[0m invalid syntax\n"
          ]
        }
      ],
      "source": [
        "a > = b"
      ]
    },
    {
      "cell_type": "markdown",
      "metadata": {
        "id": "pqLeqzDwdZzs"
      },
      "source": [
        "## 논리 연산"
      ]
    },
    {
      "cell_type": "code",
      "execution_count": null,
      "metadata": {
        "colab": {
          "base_uri": "https://localhost:8080/"
        },
        "id": "2yxiL6VTUy2p",
        "outputId": "3b67312b-54e0-4eee-94b7-52090e262fbe"
      },
      "outputs": [
        {
          "name": "stdout",
          "output_type": "stream",
          "text": [
            "False\n",
            "True\n",
            "False\n"
          ]
        }
      ],
      "source": [
        "# 논리연산자 (logical operator) : and, or, not\n",
        "x,y = True, False\n",
        "print(x and y)\n",
        "print(x or y)\n",
        "print(not x)"
      ]
    },
    {
      "cell_type": "markdown",
      "metadata": {
        "id": "PrwT2R2CdZzs"
      },
      "source": [
        "## random 모듈"
      ]
    },
    {
      "cell_type": "code",
      "execution_count": null,
      "metadata": {
        "id": "XWX7AxOzVSCD"
      },
      "outputs": [],
      "source": [
        "# random 모듈 : 난수 생성\n",
        "import random"
      ]
    },
    {
      "cell_type": "code",
      "execution_count": null,
      "metadata": {
        "colab": {
          "base_uri": "https://localhost:8080/"
        },
        "id": "6kddlG7fVt0N",
        "outputId": "851b929b-b90c-4e2d-f204-21f2073fc924"
      },
      "outputs": [
        {
          "data": {
            "text/plain": [
              "0.4289060237047889"
            ]
          },
          "execution_count": 86,
          "metadata": {},
          "output_type": "execute_result"
        }
      ],
      "source": [
        "random.random() # 0~1 사이에 임의의 실수값을 return"
      ]
    },
    {
      "cell_type": "code",
      "execution_count": null,
      "metadata": {
        "colab": {
          "base_uri": "https://localhost:8080/"
        },
        "id": "G7__3fTaWF6v",
        "outputId": "9ca16a51-d86e-4027-b4be-19e5b3640ee0"
      },
      "outputs": [
        {
          "data": {
            "text/plain": [
              "2"
            ]
          },
          "execution_count": 101,
          "metadata": {},
          "output_type": "execute_result"
        }
      ],
      "source": [
        "random.randint(1,3)"
      ]
    },
    {
      "cell_type": "code",
      "execution_count": null,
      "metadata": {
        "colab": {
          "base_uri": "https://localhost:8080/"
        },
        "id": "22GRKtGhWSCX",
        "outputId": "032d6389-448a-4877-f330-29c125ca4df7"
      },
      "outputs": [
        {
          "data": {
            "text/plain": [
              "5"
            ]
          },
          "execution_count": 104,
          "metadata": {},
          "output_type": "execute_result"
        }
      ],
      "source": [
        "random.randrange(7) # 0~6 까지의 임의의 정수를 return"
      ]
    },
    {
      "cell_type": "code",
      "execution_count": null,
      "metadata": {
        "colab": {
          "base_uri": "https://localhost:8080/"
        },
        "id": "IoGInQC2Wf1K",
        "outputId": "138294c9-f9a3-4d11-c4cb-e72f3de3a9ec"
      },
      "outputs": [
        {
          "data": {
            "text/plain": [
              "20"
            ]
          },
          "execution_count": 105,
          "metadata": {},
          "output_type": "execute_result"
        }
      ],
      "source": [
        "lst=[10,20,30,40,50]\n",
        "random.choice(lst)"
      ]
    },
    {
      "cell_type": "code",
      "execution_count": null,
      "metadata": {
        "colab": {
          "base_uri": "https://localhost:8080/"
        },
        "id": "53iSpbIMXJER",
        "outputId": "f925a44a-2557-4831-df70-ad2fd4eed0e1"
      },
      "outputs": [
        {
          "data": {
            "text/plain": [
              "[40, 50, 30, 10]"
            ]
          },
          "execution_count": 107,
          "metadata": {},
          "output_type": "execute_result"
        }
      ],
      "source": [
        "random.sample(lst, 4)"
      ]
    },
    {
      "cell_type": "code",
      "execution_count": null,
      "metadata": {
        "colab": {
          "base_uri": "https://localhost:8080/"
        },
        "id": "F4q8PkgZXNEA",
        "outputId": "e082d884-0980-4db6-d5c7-2bb39c4bbbe0"
      },
      "outputs": [
        {
          "data": {
            "text/plain": [
              "[20, 40, 20, 20]"
            ]
          },
          "execution_count": 110,
          "metadata": {},
          "output_type": "execute_result"
        }
      ],
      "source": [
        "random.choices(lst,k=4)"
      ]
    },
    {
      "cell_type": "markdown",
      "metadata": {
        "id": "wjGUYVwtdZzt"
      },
      "source": [
        "## if:"
      ]
    },
    {
      "cell_type": "code",
      "execution_count": null,
      "metadata": {
        "colab": {
          "base_uri": "https://localhost:8080/"
        },
        "id": "RO9VKvwKXsY0",
        "outputId": "5a26447f-afee-4751-a62e-87170bb6eb7e"
      },
      "outputs": [
        {
          "name": "stdout",
          "output_type": "stream",
          "text": [
            "점수를 입력하시오.95\n",
            "축하합니다.\n",
            "A학점입니다.\n",
            "AAA\n"
          ]
        }
      ],
      "source": [
        "# if 조건문\n",
        "score = int(input(\"점수를 입력하시오.\"))\n",
        "if (score >=90):\n",
        "  print(\"축하합니다.\")\n",
        "  print(\"A학점입니다.\")\n",
        "  print(\"AAA\")"
      ]
    },
    {
      "cell_type": "code",
      "execution_count": null,
      "metadata": {
        "colab": {
          "base_uri": "https://localhost:8080/"
        },
        "id": "I-ad2v3SYeFA",
        "outputId": "0f9357a0-2c4e-4281-a7ea-2e7738fc5e3d"
      },
      "outputs": [
        {
          "name": "stdout",
          "output_type": "stream",
          "text": [
            "정수를 입력하시오: -5\n",
            "음수입니다.\n"
          ]
        }
      ],
      "source": [
        "# if-elif-else\n",
        "num=int(input(\"정수를 입력하시오: \"))\n",
        "if num>0:\n",
        "  print(\"양수입니다.\")\n",
        "elif num==0:\n",
        "  print(\"0입니다.\")\n",
        "else:\n",
        "  print(\"음수입니다.\")"
      ]
    },
    {
      "cell_type": "code",
      "execution_count": null,
      "metadata": {
        "colab": {
          "base_uri": "https://localhost:8080/"
        },
        "id": "0ZgbTmYKZn0k",
        "outputId": "38f41511-a616-4298-d156-0cfb677ee895"
      },
      "outputs": [
        {
          "name": "stdout",
          "output_type": "stream",
          "text": [
            "양의 정수를 입력하시오: 4\n",
            "짝수이고 10보다 작습니다.\n"
          ]
        }
      ],
      "source": [
        "# if 문 : 논리 연산자와 활용\n",
        "num = int(input(\"양의 정수를 입력하시오: \"))\n",
        "if (num %2 == 0) and (num<10):\n",
        "  print('짝수이고 10보다 작습니다.')\n",
        "elif (num %2 == 0):\n",
        "  print('짝수이면서 10보다 크거나 같습니다.')\n",
        "else:\n",
        "  print('홀수입니다.')"
      ]
    },
    {
      "cell_type": "markdown",
      "metadata": {
        "id": "Cdb-iAHydZzu"
      },
      "source": [
        "## for:"
      ]
    },
    {
      "cell_type": "code",
      "execution_count": null,
      "metadata": {
        "colab": {
          "base_uri": "https://localhost:8080/"
        },
        "id": "lbt47w5bawS-",
        "outputId": "8aa9afed-cf39-4fe8-8b79-f5765ad1ffd0"
      },
      "outputs": [
        {
          "name": "stdout",
          "output_type": "stream",
          "text": [
            "0\n",
            "1\n",
            "2\n",
            "3\n",
            "4\n"
          ]
        }
      ],
      "source": [
        "# 반복문\n",
        "for i in range(5):\n",
        "  print(i)"
      ]
    },
    {
      "cell_type": "code",
      "execution_count": null,
      "metadata": {
        "colab": {
          "base_uri": "https://localhost:8080/"
        },
        "id": "zbpfuKdlbpri",
        "outputId": "d2746234-1abc-4c67-bee6-496aaa6606f1"
      },
      "outputs": [
        {
          "name": "stdout",
          "output_type": "stream",
          "text": [
            "100\n",
            "200\n",
            "1\n",
            "1000\n"
          ]
        }
      ],
      "source": [
        "for i in [100,200,1,1000]: # 리스트 [,,]\n",
        "  print(i)"
      ]
    },
    {
      "cell_type": "code",
      "execution_count": null,
      "metadata": {
        "colab": {
          "base_uri": "https://localhost:8080/"
        },
        "id": "b3Geon2ZcVbb",
        "outputId": "a2cfdff8-5ec1-4da8-f663-49f0f09209a4"
      },
      "outputs": [
        {
          "name": "stdout",
          "output_type": "stream",
          "text": [
            "H\n",
            "e\n",
            "l\n",
            "l\n",
            "o\n"
          ]
        }
      ],
      "source": [
        "for i in \"Hello\":\n",
        "  print(i)"
      ]
    },
    {
      "cell_type": "code",
      "execution_count": null,
      "metadata": {
        "colab": {
          "base_uri": "https://localhost:8080/"
        },
        "id": "O_0KvHY3ccDG",
        "outputId": "58882005-619b-4353-90c9-cce67509772d"
      },
      "outputs": [
        {
          "name": "stdout",
          "output_type": "stream",
          "text": [
            "1\n",
            "3\n",
            "5\n"
          ]
        }
      ],
      "source": [
        "for i in range(1,6,2):\n",
        "  print(i)"
      ]
    },
    {
      "cell_type": "markdown",
      "metadata": {
        "id": "k-dLLNm3dZzv"
      },
      "source": [
        "## while:"
      ]
    },
    {
      "cell_type": "code",
      "execution_count": null,
      "metadata": {
        "colab": {
          "base_uri": "https://localhost:8080/"
        },
        "id": "gb1eZdllfnhg",
        "outputId": "ef077810-582e-4b12-fc07-6d968e9b6de8"
      },
      "outputs": [
        {
          "name": "stdout",
          "output_type": "stream",
          "text": [
            "55\n",
            "11\n"
          ]
        }
      ],
      "source": [
        "# while 문\n",
        "count =1\n",
        "s =0\n",
        "while count <= 10:\n",
        "  s+=count #s = s+count\n",
        "  count+=1\n",
        "print(s)\n",
        "print(count)"
      ]
    },
    {
      "cell_type": "markdown",
      "metadata": {
        "id": "zOM35KqcdZzv"
      },
      "source": [
        "## continue"
      ]
    },
    {
      "cell_type": "code",
      "execution_count": null,
      "metadata": {
        "colab": {
          "base_uri": "https://localhost:8080/"
        },
        "id": "_17_KHy0gNHv",
        "outputId": "5370d591-de30-4cc7-9a00-fdf860b97f64"
      },
      "outputs": [
        {
          "name": "stdout",
          "output_type": "stream",
          "text": [
            " lv Pythn Prgrmmng"
          ]
        }
      ],
      "source": [
        "# continue\n",
        "st = \"I love Python Programming\"\n",
        "for ch in st:\n",
        "  if ch in ['a','e','i','o','u','A','E','I','O','U']:\n",
        "    continue\n",
        "  print(ch,end='')"
      ]
    },
    {
      "cell_type": "markdown",
      "metadata": {
        "id": "N0FjXVKUdZzv"
      },
      "source": [
        "## def:"
      ]
    },
    {
      "cell_type": "code",
      "execution_count": null,
      "metadata": {
        "id": "eAtDPZgshZKK"
      },
      "outputs": [],
      "source": [
        "# 함수\n",
        "def calculate_area(radius):\n",
        "  area=3.14*(radius**2)\n",
        "  return area"
      ]
    },
    {
      "cell_type": "code",
      "execution_count": null,
      "metadata": {
        "colab": {
          "base_uri": "https://localhost:8080/"
        },
        "id": "uk-7twZPhnYt",
        "outputId": "63d61085-7dce-4445-87ab-2aeb30e0541f"
      },
      "outputs": [
        {
          "data": {
            "text/plain": [
              "91.06"
            ]
          },
          "execution_count": 139,
          "metadata": {},
          "output_type": "execute_result"
        }
      ],
      "source": [
        "calculate_area(5.0)+calculate_area(2.0)"
      ]
    },
    {
      "cell_type": "code",
      "execution_count": null,
      "metadata": {
        "id": "qPTjB2oYhyEZ"
      },
      "outputs": [],
      "source": [
        "def get_sum(start,end):\n",
        "  s=0\n",
        "  for i in range(start,end+1):\n",
        "    s+=i\n",
        "  return s"
      ]
    },
    {
      "cell_type": "code",
      "execution_count": null,
      "metadata": {
        "colab": {
          "base_uri": "https://localhost:8080/"
        },
        "id": "Y4yu5pNDh9EZ",
        "outputId": "5ee1c40e-2325-4ef5-9e58-5f4416932fab"
      },
      "outputs": [
        {
          "data": {
            "text/plain": [
              "5050"
            ]
          },
          "execution_count": 142,
          "metadata": {},
          "output_type": "execute_result"
        }
      ],
      "source": [
        "get_sum(1,100)"
      ]
    },
    {
      "cell_type": "markdown",
      "metadata": {
        "id": "jBTEgjQKdZzw"
      },
      "source": [
        "## list"
      ]
    },
    {
      "cell_type": "code",
      "execution_count": null,
      "metadata": {
        "colab": {
          "base_uri": "https://localhost:8080/"
        },
        "id": "uWmzBsBTizvb",
        "outputId": "ed1a376d-d8ee-4365-c3e4-a7d887b19ae7"
      },
      "outputs": [
        {
          "name": "stdout",
          "output_type": "stream",
          "text": [
            "<class 'list'>\n",
            "5\n"
          ]
        },
        {
          "data": {
            "text/plain": [
              "176.4"
            ]
          },
          "execution_count": 153,
          "metadata": {},
          "output_type": "execute_result"
        }
      ],
      "source": [
        "# 리스트 (list) : 값들의 묶음, [] 저장, 어떤 type 이든 가능\n",
        "heights=[178.9, 173.5, 166.1, 164.3, 176.4]\n",
        "print(type(heights))\n",
        "print(len(heights))\n",
        "heights[4]"
      ]
    },
    {
      "cell_type": "code",
      "execution_count": null,
      "metadata": {
        "colab": {
          "base_uri": "https://localhost:8080/"
        },
        "id": "T8fFH52vjpwf",
        "outputId": "2976c5fc-f401-4526-d49d-098801552691"
      },
      "outputs": [
        {
          "data": {
            "text/plain": [
              "['V', 'Jungkook', 'Jimin']"
            ]
          },
          "execution_count": 154,
          "metadata": {},
          "output_type": "execute_result"
        }
      ],
      "source": [
        "bts=['V','Jungkook','Jimin']\n",
        "bts"
      ]
    },
    {
      "cell_type": "markdown",
      "metadata": {
        "id": "BuFfBHecdZzw"
      },
      "source": [
        "## append()"
      ]
    },
    {
      "cell_type": "code",
      "execution_count": null,
      "metadata": {
        "colab": {
          "base_uri": "https://localhost:8080/"
        },
        "id": "dYqhvco8jvbd",
        "outputId": "23ab41c5-561f-4e25-8ed5-71b6454a3c76"
      },
      "outputs": [
        {
          "name": "stdout",
          "output_type": "stream",
          "text": [
            "['V']\n",
            "['V', 'Jungkook']\n"
          ]
        }
      ],
      "source": [
        "# null list 정의후 append 메소드 함수\n",
        "bts=[]\n",
        "bts.append('V')\n",
        "print(bts)\n",
        "bts.append('Jungkook')\n",
        "print(bts)"
      ]
    },
    {
      "cell_type": "code",
      "execution_count": null,
      "metadata": {
        "colab": {
          "base_uri": "https://localhost:8080/"
        },
        "id": "1q87LHrFkMiT",
        "outputId": "d9c61141-33f2-4d80-c6cf-ebf93f7abb58"
      },
      "outputs": [
        {
          "data": {
            "text/plain": [
              "['V', 'Jungkook', 'Suga', 'Jin']"
            ]
          },
          "execution_count": 158,
          "metadata": {},
          "output_type": "execute_result"
        }
      ],
      "source": [
        "bts=bts+['Suga','Jin']\n",
        "bts"
      ]
    },
    {
      "cell_type": "code",
      "execution_count": null,
      "metadata": {
        "colab": {
          "base_uri": "https://localhost:8080/"
        },
        "id": "gPxq1im5kXTP",
        "outputId": "432f48f1-74b6-425b-e153-df686f31dabf"
      },
      "outputs": [
        {
          "data": {
            "text/plain": [
              "[0, 1, 2, 3, 4]"
            ]
          },
          "execution_count": 159,
          "metadata": {},
          "output_type": "execute_result"
        }
      ],
      "source": [
        "# range 를 리스트화\n",
        "list(range(5))"
      ]
    },
    {
      "cell_type": "code",
      "execution_count": null,
      "metadata": {
        "colab": {
          "base_uri": "https://localhost:8080/"
        },
        "id": "SsFoRrmtkdu5",
        "outputId": "3d221f25-83ec-4364-bb22-c90b93e218b7"
      },
      "outputs": [
        {
          "data": {
            "text/plain": [
              "[1, 3]"
            ]
          },
          "execution_count": 160,
          "metadata": {},
          "output_type": "execute_result"
        }
      ],
      "source": [
        "list(range(1,5,2))"
      ]
    },
    {
      "cell_type": "code",
      "execution_count": null,
      "metadata": {
        "colab": {
          "base_uri": "https://localhost:8080/"
        },
        "id": "QS82K3rBkg0_",
        "outputId": "c2d1793b-1f2d-49a2-95ca-cd100857a883"
      },
      "outputs": [
        {
          "data": {
            "text/plain": [
              "[2, 3, 4]"
            ]
          },
          "execution_count": 161,
          "metadata": {},
          "output_type": "execute_result"
        }
      ],
      "source": [
        "list(range(2,5))"
      ]
    },
    {
      "cell_type": "code",
      "execution_count": null,
      "metadata": {
        "colab": {
          "base_uri": "https://localhost:8080/"
        },
        "id": "SgXU1_8Skwmh",
        "outputId": "e445e169-b497-45c8-98fd-4b7f4bb7c235"
      },
      "outputs": [
        {
          "data": {
            "text/plain": [
              "[10, 20, 30, 40, 10, 50]"
            ]
          },
          "execution_count": 162,
          "metadata": {},
          "output_type": "execute_result"
        }
      ],
      "source": [
        "[10,20,30] + [40,10,50]"
      ]
    },
    {
      "cell_type": "code",
      "execution_count": null,
      "metadata": {
        "colab": {
          "base_uri": "https://localhost:8080/"
        },
        "id": "Nd5unLFGk1pI",
        "outputId": "962d1087-033c-44a1-f15f-9a1454649925"
      },
      "outputs": [
        {
          "name": "stdout",
          "output_type": "stream",
          "text": [
            "['V', 'Jungkook', 'Suga', 'Jin']\n"
          ]
        }
      ],
      "source": [
        "print(bts)"
      ]
    },
    {
      "cell_type": "code",
      "execution_count": null,
      "metadata": {
        "colab": {
          "base_uri": "https://localhost:8080/"
        },
        "id": "rdrsRYNbk4ju",
        "outputId": "1fe4e077-042d-4748-ecbe-18fbc93a7847"
      },
      "outputs": [
        {
          "data": {
            "text/plain": [
              "True"
            ]
          },
          "execution_count": 164,
          "metadata": {},
          "output_type": "execute_result"
        }
      ],
      "source": [
        "'V' in bts # in 연산"
      ]
    },
    {
      "cell_type": "code",
      "execution_count": null,
      "metadata": {
        "colab": {
          "base_uri": "https://localhost:8080/"
        },
        "id": "4307WJj3k9At",
        "outputId": "aa18e73b-4518-4391-f4fb-5cc8f0eb64b4"
      },
      "outputs": [
        {
          "data": {
            "text/plain": [
              "False"
            ]
          },
          "execution_count": 165,
          "metadata": {},
          "output_type": "execute_result"
        }
      ],
      "source": [
        "'V' not in bts # not in 연"
      ]
    },
    {
      "cell_type": "code",
      "execution_count": null,
      "metadata": {
        "colab": {
          "base_uri": "https://localhost:8080/"
        },
        "id": "8YR70bQmltos",
        "outputId": "9ff700e3-329e-4805-ab99-b5d101ca66a6"
      },
      "outputs": [
        {
          "data": {
            "text/plain": [
              "['Kim', 123, 'Lee', 55]"
            ]
          },
          "execution_count": 166,
          "metadata": {},
          "output_type": "execute_result"
        }
      ],
      "source": [
        "# 리스트는 여러 타입을 섞는 것이 가능\n",
        "slist1=['Kim',123,'Lee',55]\n",
        "slist1"
      ]
    },
    {
      "cell_type": "code",
      "execution_count": null,
      "metadata": {
        "colab": {
          "base_uri": "https://localhost:8080/"
        },
        "id": "anH1sDX1l2V7",
        "outputId": "77fc9701-1f39-4b6b-92ac-45a2d765101a"
      },
      "outputs": [
        {
          "data": {
            "text/plain": [
              "[['Kim', 123], ['Lee', 55]]"
            ]
          },
          "execution_count": 167,
          "metadata": {},
          "output_type": "execute_result"
        }
      ],
      "source": [
        "slist2=[['Kim',123],['Lee',55]]\n",
        "slist2"
      ]
    },
    {
      "cell_type": "code",
      "execution_count": null,
      "metadata": {
        "colab": {
          "base_uri": "https://localhost:8080/"
        },
        "id": "lTGzbY2kl8nL",
        "outputId": "975d73bc-c429-4b26-b525-649507b77c17"
      },
      "outputs": [
        {
          "name": "stdout",
          "output_type": "stream",
          "text": [
            "['Kim', 123]\n"
          ]
        }
      ],
      "source": [
        "print(slist2[0])"
      ]
    },
    {
      "cell_type": "code",
      "execution_count": null,
      "metadata": {
        "colab": {
          "base_uri": "https://localhost:8080/"
        },
        "id": "nfvE9pF0l_2O",
        "outputId": "6ba896d8-ec25-4044-e812-6ad2bd208c73"
      },
      "outputs": [
        {
          "name": "stdout",
          "output_type": "stream",
          "text": [
            "['Lee', 55]\n"
          ]
        }
      ],
      "source": [
        "print(slist2[1])"
      ]
    },
    {
      "cell_type": "code",
      "execution_count": null,
      "metadata": {
        "colab": {
          "base_uri": "https://localhost:8080/"
        },
        "id": "QVXyKYYFmESV",
        "outputId": "48f8b76a-6d35-4902-ce9d-bbc34b0886ed"
      },
      "outputs": [
        {
          "name": "stdout",
          "output_type": "stream",
          "text": [
            "5\n",
            "700\n",
            "200\n",
            "2100\n"
          ]
        }
      ],
      "source": [
        "n_list=[200,700,500,300,400]\n",
        "print(len(n_list))\n",
        "print(max(n_list))\n",
        "print(min(n_list))\n",
        "print(sum(n_list))"
      ]
    },
    {
      "cell_type": "markdown",
      "metadata": {
        "id": "UheEWnDidZzy"
      },
      "source": [
        "## 슬라이싱"
      ]
    },
    {
      "cell_type": "code",
      "execution_count": null,
      "metadata": {
        "colab": {
          "base_uri": "https://localhost:8080/",
          "height": 35
        },
        "id": "utHkwJ9Xmq88",
        "outputId": "9dd0d173-845f-4d0e-c763-136aec7a24f8"
      },
      "outputs": [
        {
          "data": {
            "application/vnd.google.colaboratory.intrinsic+json": {
              "type": "string"
            },
            "text/plain": [
              "'F'"
            ]
          },
          "execution_count": 176,
          "metadata": {},
          "output_type": "execute_result"
        }
      ],
      "source": [
        "#슬라이싱\n",
        "letters=['A','B','C','D','E','F']\n",
        "letters[len(letters)-1]"
      ]
    },
    {
      "cell_type": "code",
      "execution_count": null,
      "metadata": {
        "colab": {
          "base_uri": "https://localhost:8080/",
          "height": 35
        },
        "id": "C0ewx6cQnFNN",
        "outputId": "becd08e0-0dce-4167-d76a-578c63e3c043"
      },
      "outputs": [
        {
          "data": {
            "application/vnd.google.colaboratory.intrinsic+json": {
              "type": "string"
            },
            "text/plain": [
              "'F'"
            ]
          },
          "execution_count": 180,
          "metadata": {},
          "output_type": "execute_result"
        }
      ],
      "source": [
        "letters[-1]"
      ]
    },
    {
      "cell_type": "code",
      "execution_count": null,
      "metadata": {
        "colab": {
          "base_uri": "https://localhost:8080/"
        },
        "id": "fz3EGqpZnTqt",
        "outputId": "c3b00b78-728d-451a-d4cd-2c5f3847cc18"
      },
      "outputs": [
        {
          "data": {
            "text/plain": [
              "['C', 'D', 'E']"
            ]
          },
          "execution_count": 181,
          "metadata": {},
          "output_type": "execute_result"
        }
      ],
      "source": [
        "letters[2:5]"
      ]
    },
    {
      "cell_type": "code",
      "execution_count": null,
      "metadata": {
        "colab": {
          "base_uri": "https://localhost:8080/"
        },
        "id": "deVndCYrnYKS",
        "outputId": "dcc0f09d-9e56-407c-85d9-cc060af65671"
      },
      "outputs": [
        {
          "data": {
            "text/plain": [
              "['D', 'E', 'F']"
            ]
          },
          "execution_count": 184,
          "metadata": {},
          "output_type": "execute_result"
        }
      ],
      "source": [
        "letters[3:]"
      ]
    },
    {
      "cell_type": "code",
      "execution_count": null,
      "metadata": {
        "colab": {
          "base_uri": "https://localhost:8080/"
        },
        "id": "4Cth3rbTngNI",
        "outputId": "a54a80a5-2a85-4111-ab39-383d830e9484"
      },
      "outputs": [
        {
          "data": {
            "text/plain": [
              "['A', 'C', 'E']"
            ]
          },
          "execution_count": 186,
          "metadata": {},
          "output_type": "execute_result"
        }
      ],
      "source": [
        "letters[::2]"
      ]
    },
    {
      "cell_type": "code",
      "execution_count": null,
      "metadata": {
        "colab": {
          "base_uri": "https://localhost:8080/"
        },
        "id": "YwtkfRyhnqwt",
        "outputId": "9b51ebab-588b-4b74-a526-3218389b1e73"
      },
      "outputs": [
        {
          "data": {
            "text/plain": [
              "['F', 'E', 'D', 'C', 'B', 'A']"
            ]
          },
          "execution_count": 187,
          "metadata": {},
          "output_type": "execute_result"
        }
      ],
      "source": [
        "letters[::-1]"
      ]
    },
    {
      "cell_type": "markdown",
      "metadata": {
        "id": "Ujk9mr5hdZzz"
      },
      "source": [
        "## remove(), pop()"
      ]
    },
    {
      "cell_type": "code",
      "execution_count": null,
      "metadata": {
        "colab": {
          "base_uri": "https://localhost:8080/"
        },
        "id": "x584J53VosNk",
        "outputId": "c0fdb7b0-04be-495e-fb0b-b43ad98d846d"
      },
      "outputs": [
        {
          "data": {
            "text/plain": [
              "['V', 'Jungkook', 'Suga', 'Jin']"
            ]
          },
          "execution_count": 188,
          "metadata": {},
          "output_type": "execute_result"
        }
      ],
      "source": [
        "bts"
      ]
    },
    {
      "cell_type": "code",
      "execution_count": null,
      "metadata": {
        "colab": {
          "base_uri": "https://localhost:8080/"
        },
        "id": "A3znI_HUouAR",
        "outputId": "7642f1be-1df0-4dd0-a847-1cb6ee59fa5f"
      },
      "outputs": [
        {
          "name": "stdout",
          "output_type": "stream",
          "text": [
            "['Jungkook', 'Suga', 'Jin']\n"
          ]
        }
      ],
      "source": [
        "if 'V' in bts:\n",
        "  bts.remove(\"V\")\n",
        "print(bts)"
      ]
    },
    {
      "cell_type": "code",
      "execution_count": null,
      "metadata": {
        "colab": {
          "base_uri": "https://localhost:8080/",
          "height": 35
        },
        "id": "UlxSXkYlo2n-",
        "outputId": "59e92df5-d7e7-4ac8-bdba-8ab626411eec"
      },
      "outputs": [
        {
          "data": {
            "application/vnd.google.colaboratory.intrinsic+json": {
              "type": "string"
            },
            "text/plain": [
              "'Jin'"
            ]
          },
          "execution_count": 190,
          "metadata": {},
          "output_type": "execute_result"
        }
      ],
      "source": [
        "bts.pop()"
      ]
    },
    {
      "cell_type": "code",
      "execution_count": null,
      "metadata": {
        "colab": {
          "base_uri": "https://localhost:8080/"
        },
        "id": "P-pvlvW0o5fl",
        "outputId": "0ec88442-ab2f-4fba-bd10-f986606c5883"
      },
      "outputs": [
        {
          "data": {
            "text/plain": [
              "['Jungkook', 'Suga']"
            ]
          },
          "execution_count": 191,
          "metadata": {},
          "output_type": "execute_result"
        }
      ],
      "source": [
        "bts"
      ]
    },
    {
      "cell_type": "markdown",
      "metadata": {
        "id": "3ggu8bvSdZz0"
      },
      "source": [
        "## index()"
      ]
    },
    {
      "cell_type": "code",
      "execution_count": null,
      "metadata": {
        "colab": {
          "base_uri": "https://localhost:8080/"
        },
        "id": "AnETAH19pC90",
        "outputId": "6850910e-584d-418f-8182-ff0e66fc4aea"
      },
      "outputs": [
        {
          "data": {
            "text/plain": [
              "1"
            ]
          },
          "execution_count": 192,
          "metadata": {},
          "output_type": "execute_result"
        }
      ],
      "source": [
        "bts.index('Suga')"
      ]
    },
    {
      "cell_type": "code",
      "execution_count": null,
      "metadata": {
        "colab": {
          "base_uri": "https://localhost:8080/",
          "height": 35
        },
        "id": "RXH8cGNCpHKG",
        "outputId": "0d7c2916-d534-4475-c150-d3e5902b051f"
      },
      "outputs": [
        {
          "data": {
            "application/vnd.google.colaboratory.intrinsic+json": {
              "type": "string"
            },
            "text/plain": [
              "'Suga'"
            ]
          },
          "execution_count": 193,
          "metadata": {},
          "output_type": "execute_result"
        }
      ],
      "source": [
        "bts[bts.index('Suga')]"
      ]
    },
    {
      "cell_type": "code",
      "execution_count": null,
      "metadata": {
        "colab": {
          "base_uri": "https://localhost:8080/"
        },
        "id": "2pr0HgdEpPVT",
        "outputId": "7a820c0e-7b6d-47a4-850d-952a1a6f910b"
      },
      "outputs": [
        {
          "name": "stdout",
          "output_type": "stream",
          "text": [
            "Jungkook\n",
            "Suga\n"
          ]
        }
      ],
      "source": [
        "for i in bts:\n",
        "  print(i)"
      ]
    },
    {
      "cell_type": "code",
      "execution_count": null,
      "metadata": {
        "colab": {
          "base_uri": "https://localhost:8080/"
        },
        "id": "c84hDgg8tS9H",
        "outputId": "44fbb27e-3c37-4f50-bb7f-02a6f523b046"
      },
      "outputs": [
        {
          "data": {
            "text/plain": [
              "['Jungkook', 'Suga', ['AA', 'AAA'], ['AA', 'AAA']]"
            ]
          },
          "execution_count": 197,
          "metadata": {},
          "output_type": "execute_result"
        }
      ],
      "source": [
        "bts.append(['AA','AAA'])\n",
        "bts"
      ]
    },
    {
      "cell_type": "markdown",
      "metadata": {
        "id": "YIdpKRAJdZz1"
      },
      "source": [
        "## sort()"
      ]
    },
    {
      "cell_type": "code",
      "execution_count": null,
      "metadata": {
        "colab": {
          "base_uri": "https://localhost:8080/"
        },
        "id": "2HEgWTJ-wcI_",
        "outputId": "af150d2c-689d-4ee7-fae1-3f01a632eb74"
      },
      "outputs": [
        {
          "data": {
            "text/plain": [
              "[1, 4, 5, 6, 7, 8, 9]"
            ]
          },
          "execution_count": 2,
          "metadata": {},
          "output_type": "execute_result"
        }
      ],
      "source": [
        "numbers=[9,6,7,1,8,4,5]\n",
        "numbers.sort() # ascending 오름차순\n",
        "numbers"
      ]
    },
    {
      "cell_type": "code",
      "execution_count": null,
      "metadata": {
        "colab": {
          "base_uri": "https://localhost:8080/"
        },
        "id": "rw0ISc5nwoQR",
        "outputId": "63db89ee-7d90-49b0-f668-2d615c7a08a5"
      },
      "outputs": [
        {
          "data": {
            "text/plain": [
              "[9, 8, 7, 6, 5, 4, 1]"
            ]
          },
          "execution_count": 4,
          "metadata": {},
          "output_type": "execute_result"
        }
      ],
      "source": [
        "numbers.sort(reverse=True) #descending 내림차순\n",
        "numbers"
      ]
    },
    {
      "cell_type": "code",
      "execution_count": null,
      "metadata": {
        "colab": {
          "base_uri": "https://localhost:8080/"
        },
        "id": "BoINZT0mw13p",
        "outputId": "a226226b-4c0b-48b5-9872-51e5f1e374df"
      },
      "outputs": [
        {
          "name": "stdout",
          "output_type": "stream",
          "text": [
            "[1, 4, 5, 6, 7, 8, 9]\n",
            "[9, 8, 7, 6, 5, 4, 1]\n"
          ]
        }
      ],
      "source": [
        "numbers=[9,6,7,1,8,4,5]\n",
        "numbers1=sorted(numbers)\n",
        "numbers2=sorted(numbers,reverse=True)\n",
        "print(numbers1)\n",
        "print(numbers2)"
      ]
    },
    {
      "cell_type": "markdown",
      "metadata": {
        "id": "5O7Akpf_dZz1"
      },
      "source": [
        "## 리스트 함축(list comprehension)"
      ]
    },
    {
      "cell_type": "code",
      "execution_count": null,
      "metadata": {
        "id": "7aoj0sO1yL7U"
      },
      "outputs": [],
      "source": [
        "# 리스트 함축\n",
        "a1=[1,2,3,4,5]"
      ]
    },
    {
      "cell_type": "code",
      "execution_count": null,
      "metadata": {
        "colab": {
          "base_uri": "https://localhost:8080/"
        },
        "id": "p7zy7ssyyZxS",
        "outputId": "17a42aba-5e20-4f8e-93ff-a1df87025236"
      },
      "outputs": [
        {
          "name": "stdout",
          "output_type": "stream",
          "text": [
            "[1, 4, 9, 16, 25]\n"
          ]
        }
      ],
      "source": [
        "a2=[]\n",
        "for i in a1:\n",
        "  a2.append(i**2)\n",
        "print(a2)"
      ]
    },
    {
      "cell_type": "code",
      "execution_count": null,
      "metadata": {
        "colab": {
          "base_uri": "https://localhost:8080/"
        },
        "id": "aduQt9GPyk4P",
        "outputId": "d6e31592-b107-4aaa-969d-7171aaf1bf2a"
      },
      "outputs": [
        {
          "name": "stdout",
          "output_type": "stream",
          "text": [
            "[1, 4, 9, 16, 25]\n"
          ]
        }
      ],
      "source": [
        "a3=[i**2 for i in a1]\n",
        "print(a3)"
      ]
    },
    {
      "cell_type": "code",
      "execution_count": null,
      "metadata": {
        "colab": {
          "base_uri": "https://localhost:8080/"
        },
        "id": "W0IVDdrVywEI",
        "outputId": "b7e0a442-dce8-475f-a96f-d9894e9f6fa7"
      },
      "outputs": [
        {
          "name": "stdout",
          "output_type": "stream",
          "text": [
            "['H', 'E', 'L', 'L', 'O', ' ', 'W', 'O', 'R', 'L', 'D']\n"
          ]
        }
      ],
      "source": [
        "st=\"Hello World\"\n",
        "st1=[i.upper() for i in st]\n",
        "print(st1)"
      ]
    },
    {
      "cell_type": "code",
      "execution_count": null,
      "metadata": {
        "colab": {
          "base_uri": "https://localhost:8080/",
          "height": 35
        },
        "id": "YISdw7wtzUvi",
        "outputId": "96ea71aa-9171-48e6-ee05-e97f9d6d3a70"
      },
      "outputs": [
        {
          "data": {
            "application/vnd.google.colaboratory.intrinsic+json": {
              "type": "string"
            },
            "text/plain": [
              "'HELLO WORLD'"
            ]
          },
          "execution_count": 13,
          "metadata": {},
          "output_type": "execute_result"
        }
      ],
      "source": [
        "''.join(st1)"
      ]
    },
    {
      "cell_type": "code",
      "execution_count": null,
      "metadata": {
        "colab": {
          "base_uri": "https://localhost:8080/"
        },
        "id": "BeWGsTXJ0Ixw",
        "outputId": "83f7691c-28e4-42ec-8f20-bf7ce34ed0ea"
      },
      "outputs": [
        {
          "name": "stdout",
          "output_type": "stream",
          "text": [
            "[4, 16, 36, 64, 100]\n"
          ]
        }
      ],
      "source": [
        "res=[]\n",
        "for i in range(1,11):\n",
        "  a1=i**2\n",
        "  if (i % 2 ==0 ):\n",
        "    res.append(a1)\n",
        "print(res)"
      ]
    },
    {
      "cell_type": "code",
      "execution_count": null,
      "metadata": {
        "colab": {
          "base_uri": "https://localhost:8080/"
        },
        "id": "4mzFZttH0iyr",
        "outputId": "db4ed6b8-20c0-4632-ba28-794f47bd49f4"
      },
      "outputs": [
        {
          "data": {
            "text/plain": [
              "[4, 16, 36, 64, 100]"
            ]
          },
          "execution_count": 16,
          "metadata": {},
          "output_type": "execute_result"
        }
      ],
      "source": [
        "res1=[i**2 for i in range(1,11) if i%2 ==0]\n",
        "res1"
      ]
    },
    {
      "cell_type": "markdown",
      "metadata": {
        "id": "hbPbdXZndZz2"
      },
      "source": [
        "## 튜플"
      ]
    },
    {
      "cell_type": "code",
      "execution_count": null,
      "metadata": {
        "colab": {
          "base_uri": "https://localhost:8080/"
        },
        "id": "EEcS9zTE1_sU",
        "outputId": "a1a4a1e6-4e8e-4d88-992d-a38f89921c32"
      },
      "outputs": [
        {
          "name": "stdout",
          "output_type": "stream",
          "text": [
            "[100, 20, 30]\n"
          ]
        }
      ],
      "source": [
        "# 튜플(tuple) : 값을 고칠 수 없는 자료 묶\n",
        "t1=(10,20,30)\n",
        "l1=[10,20,30]\n",
        "l1[0]=100\n",
        "print(l1)"
      ]
    },
    {
      "cell_type": "code",
      "execution_count": null,
      "metadata": {
        "colab": {
          "base_uri": "https://localhost:8080/"
        },
        "id": "Fspsot112K8r",
        "outputId": "0a6b3928-0a5b-40d0-e364-692c911cbca2"
      },
      "outputs": [
        {
          "data": {
            "text/plain": [
              "10"
            ]
          },
          "execution_count": 18,
          "metadata": {},
          "output_type": "execute_result"
        }
      ],
      "source": [
        "t1[0]"
      ]
    },
    {
      "cell_type": "code",
      "execution_count": null,
      "metadata": {
        "colab": {
          "base_uri": "https://localhost:8080/",
          "height": 148
        },
        "id": "sBm9EkpP2NSg",
        "outputId": "b9779173-62f6-4cba-81fe-2ef5bda4de53"
      },
      "outputs": [
        {
          "ename": "TypeError",
          "evalue": "'tuple' object does not support item assignment",
          "output_type": "error",
          "traceback": [
            "\u001b[0;31m---------------------------------------------------------------------------\u001b[0m",
            "\u001b[0;31mTypeError\u001b[0m                                 Traceback (most recent call last)",
            "\u001b[0;32m<ipython-input-19-7cb4489bea4f>\u001b[0m in \u001b[0;36m<cell line: 1>\u001b[0;34m()\u001b[0m\n\u001b[0;32m----> 1\u001b[0;31m \u001b[0mt1\u001b[0m\u001b[0;34m[\u001b[0m\u001b[0;36m0\u001b[0m\u001b[0;34m]\u001b[0m\u001b[0;34m=\u001b[0m\u001b[0;36m100\u001b[0m\u001b[0;34m\u001b[0m\u001b[0;34m\u001b[0m\u001b[0m\n\u001b[0m",
            "\u001b[0;31mTypeError\u001b[0m: 'tuple' object does not support item assignment"
          ]
        }
      ],
      "source": [
        "t1[0]=100"
      ]
    },
    {
      "cell_type": "markdown",
      "metadata": {
        "id": "lsMrJF3ZdZz3"
      },
      "source": [
        "## 딕셔너리"
      ]
    },
    {
      "cell_type": "code",
      "execution_count": null,
      "metadata": {
        "colab": {
          "base_uri": "https://localhost:8080/"
        },
        "id": "TEpSrqKC2fLv",
        "outputId": "0b0beed5-478f-43bc-fdac-715553d30441"
      },
      "outputs": [
        {
          "data": {
            "text/plain": [
              "{'홍길동': '010-1234-5678', '김철수': '010-9876-5432'}"
            ]
          },
          "execution_count": 20,
          "metadata": {},
          "output_type": "execute_result"
        }
      ],
      "source": [
        "# 딕셔너리 (dict) : value와 관련된 key 가 있는 데이터 type\n",
        "phone_book={} # null dict\n",
        "phone_book['홍길동']='010-1234-5678'\n",
        "phone_book['김철수']='010-9876-5432'\n",
        "phone_book"
      ]
    },
    {
      "cell_type": "code",
      "execution_count": null,
      "metadata": {
        "colab": {
          "base_uri": "https://localhost:8080/",
          "height": 35
        },
        "id": "djPeN1Ud3DhM",
        "outputId": "28dd8c3e-b381-4593-ddef-bf45d3499acd"
      },
      "outputs": [
        {
          "data": {
            "application/vnd.google.colaboratory.intrinsic+json": {
              "type": "string"
            },
            "text/plain": [
              "'010-1234-5678'"
            ]
          },
          "execution_count": 21,
          "metadata": {},
          "output_type": "execute_result"
        }
      ],
      "source": [
        "phone_book['홍길동']"
      ]
    },
    {
      "cell_type": "code",
      "execution_count": null,
      "metadata": {
        "colab": {
          "base_uri": "https://localhost:8080/"
        },
        "id": "mPaGTTnw3Ii0",
        "outputId": "9b56b16a-9e53-4638-82b4-91a209059a06"
      },
      "outputs": [
        {
          "data": {
            "text/plain": [
              "dict_keys(['홍길동', '김철수'])"
            ]
          },
          "execution_count": 22,
          "metadata": {},
          "output_type": "execute_result"
        }
      ],
      "source": [
        "phone_book.keys()"
      ]
    },
    {
      "cell_type": "code",
      "execution_count": null,
      "metadata": {
        "colab": {
          "base_uri": "https://localhost:8080/"
        },
        "id": "EyOybfX93Mus",
        "outputId": "d0d81ca0-2ca6-46a8-d5a1-1b21a896586f"
      },
      "outputs": [
        {
          "data": {
            "text/plain": [
              "dict_values(['010-1234-5678', '010-9876-5432'])"
            ]
          },
          "execution_count": 23,
          "metadata": {},
          "output_type": "execute_result"
        }
      ],
      "source": [
        "phone_book.values()"
      ]
    },
    {
      "cell_type": "code",
      "execution_count": null,
      "metadata": {
        "colab": {
          "base_uri": "https://localhost:8080/"
        },
        "id": "JbjB7XWM3R6B",
        "outputId": "2e1dc82e-f6f9-45a4-ebb2-c89aa39b4274"
      },
      "outputs": [
        {
          "data": {
            "text/plain": [
              "dict_items([('홍길동', '010-1234-5678'), ('김철수', '010-9876-5432')])"
            ]
          },
          "execution_count": 24,
          "metadata": {},
          "output_type": "execute_result"
        }
      ],
      "source": [
        "phone_book.items()"
      ]
    },
    {
      "cell_type": "markdown",
      "metadata": {
        "id": "jvZ1_ij1dZz4"
      },
      "source": [
        "## lambda"
      ]
    },
    {
      "cell_type": "code",
      "execution_count": null,
      "metadata": {
        "colab": {
          "base_uri": "https://localhost:8080/"
        },
        "id": "N-DriKAT71-2",
        "outputId": "eb332e7a-8591-4a7d-e1f4-51e9d3b933e0"
      },
      "outputs": [
        {
          "name": "stdout",
          "output_type": "stream",
          "text": [
            "100과 200의 합 :  300\n"
          ]
        }
      ],
      "source": [
        "# 람다함수 : 익명함수\n",
        "print('100과 200의 합 : ',(lambda x,y: x+y)(100,200))"
      ]
    },
    {
      "cell_type": "code",
      "execution_count": null,
      "metadata": {
        "colab": {
          "base_uri": "https://localhost:8080/"
        },
        "id": "EGKMBjvf8Mxe",
        "outputId": "108fa5e0-eec4-48f1-d519-eb31c1d224a4"
      },
      "outputs": [
        {
          "data": {
            "text/plain": [
              "100"
            ]
          },
          "execution_count": 26,
          "metadata": {},
          "output_type": "execute_result"
        }
      ],
      "source": [
        "t=(100,200,300)\n",
        "(lambda x: x[0])(t)"
      ]
    },
    {
      "cell_type": "code",
      "execution_count": null,
      "metadata": {
        "colab": {
          "base_uri": "https://localhost:8080/"
        },
        "id": "B70aTCCw8Tqk",
        "outputId": "b75b49ce-4def-42ed-fe63-32dc59f37371"
      },
      "outputs": [
        {
          "data": {
            "text/plain": [
              "200"
            ]
          },
          "execution_count": 27,
          "metadata": {},
          "output_type": "execute_result"
        }
      ],
      "source": [
        "(lambda x: x[1])(t)"
      ]
    },
    {
      "cell_type": "markdown",
      "metadata": {
        "id": "kCGCecgGdZz4"
      },
      "source": [
        "## numpy"
      ]
    },
    {
      "cell_type": "code",
      "execution_count": null,
      "metadata": {
        "id": "MC4BDj2Y9C7B"
      },
      "outputs": [],
      "source": [
        "import numpy as np"
      ]
    },
    {
      "cell_type": "code",
      "execution_count": null,
      "metadata": {
        "id": "NktDmbQb9H9-"
      },
      "outputs": [],
      "source": [
        "mid_scores=np.array([10,20,30])\n",
        "final_scores=np.array([60,70,80])"
      ]
    },
    {
      "cell_type": "code",
      "execution_count": null,
      "metadata": {
        "colab": {
          "base_uri": "https://localhost:8080/"
        },
        "id": "LyIBKyQM9WTB",
        "outputId": "e4255893-d817-4793-ca16-41241f8691a1"
      },
      "outputs": [
        {
          "name": "stdout",
          "output_type": "stream",
          "text": [
            "[35. 45. 55.]\n"
          ]
        }
      ],
      "source": [
        "total=(mid_scores+final_scores)/2\n",
        "print(total)"
      ]
    },
    {
      "cell_type": "code",
      "execution_count": null,
      "metadata": {
        "id": "epqFxM6b99ci"
      },
      "outputs": [],
      "source": [
        "a=np.array([1,2,3])"
      ]
    },
    {
      "cell_type": "code",
      "execution_count": null,
      "metadata": {
        "colab": {
          "base_uri": "https://localhost:8080/"
        },
        "id": "Ge0NjFXX-JQR",
        "outputId": "eab0c159-c36e-4bb6-b845-a5c859c507c7"
      },
      "outputs": [
        {
          "data": {
            "text/plain": [
              "(3,)"
            ]
          },
          "execution_count": 35,
          "metadata": {},
          "output_type": "execute_result"
        }
      ],
      "source": [
        "a.shape"
      ]
    },
    {
      "cell_type": "code",
      "execution_count": null,
      "metadata": {
        "colab": {
          "base_uri": "https://localhost:8080/"
        },
        "id": "b4f0YzeZ-Pqj",
        "outputId": "47d8341e-6898-4f33-a840-c5970a68fdf9"
      },
      "outputs": [
        {
          "data": {
            "text/plain": [
              "1"
            ]
          },
          "execution_count": 36,
          "metadata": {},
          "output_type": "execute_result"
        }
      ],
      "source": [
        "a.ndim"
      ]
    },
    {
      "cell_type": "code",
      "execution_count": null,
      "metadata": {
        "colab": {
          "base_uri": "https://localhost:8080/"
        },
        "id": "xIbu65xk-Sdh",
        "outputId": "7fe8669e-d0f2-4d8d-e021-1708a45f64cc"
      },
      "outputs": [
        {
          "data": {
            "text/plain": [
              "dtype('int64')"
            ]
          },
          "execution_count": 37,
          "metadata": {},
          "output_type": "execute_result"
        }
      ],
      "source": [
        "a.dtype"
      ]
    },
    {
      "cell_type": "code",
      "execution_count": null,
      "metadata": {
        "colab": {
          "base_uri": "https://localhost:8080/"
        },
        "id": "MtZr0FVn-Xz2",
        "outputId": "d6d103df-d87c-4e37-b12f-5431509297ac"
      },
      "outputs": [
        {
          "name": "stdout",
          "output_type": "stream",
          "text": [
            "(3,)\n",
            "1\n",
            "float64\n"
          ]
        }
      ],
      "source": [
        "b=np.array([1.1,2.1,3.1])\n",
        "print(b.shape)\n",
        "print(b.ndim)\n",
        "print(b.dtype)"
      ]
    },
    {
      "cell_type": "markdown",
      "metadata": {
        "id": "UGtE7YOodZz6"
      },
      "source": [
        "## 넘파이 인덱스, 슬라이싱"
      ]
    },
    {
      "cell_type": "code",
      "execution_count": null,
      "metadata": {
        "colab": {
          "base_uri": "https://localhost:8080/"
        },
        "id": "Q5xhlwla_9sR",
        "outputId": "097eeff6-766d-4e4b-d649-6dfb6b5c84db"
      },
      "outputs": [
        {
          "data": {
            "text/plain": [
              "array([72, 93, 94])"
            ]
          },
          "execution_count": 40,
          "metadata": {},
          "output_type": "execute_result"
        }
      ],
      "source": [
        "# 넘파이 인덱싱, 슬라이싱 : 리스트 슬라이싱과 동일\n",
        "score=np.array([88,72,93,94,89,78,99])\n",
        "score[1:4]"
      ]
    },
    {
      "cell_type": "code",
      "execution_count": null,
      "metadata": {
        "colab": {
          "base_uri": "https://localhost:8080/"
        },
        "id": "C6eP71mtAKZT",
        "outputId": "c08fa10d-87fd-43fc-db9a-42fcee4d98a5"
      },
      "outputs": [
        {
          "data": {
            "text/plain": [
              "array([99, 78, 89, 94, 93, 72, 88])"
            ]
          },
          "execution_count": 42,
          "metadata": {},
          "output_type": "execute_result"
        }
      ],
      "source": [
        "score[::-1]"
      ]
    },
    {
      "cell_type": "code",
      "execution_count": null,
      "metadata": {
        "colab": {
          "base_uri": "https://localhost:8080/"
        },
        "id": "W9nOyZolAOkk",
        "outputId": "5e515c12-a1cf-4d49-a3e6-778eda1fa82c"
      },
      "outputs": [
        {
          "data": {
            "text/plain": [
              "array([88, 93, 89, 99])"
            ]
          },
          "execution_count": 43,
          "metadata": {},
          "output_type": "execute_result"
        }
      ],
      "source": [
        "score[0::2]"
      ]
    },
    {
      "cell_type": "markdown",
      "metadata": {
        "id": "jIl7y5ONdZz6"
      },
      "source": [
        "## 논리적인 인덱싱"
      ]
    },
    {
      "cell_type": "code",
      "execution_count": null,
      "metadata": {
        "colab": {
          "base_uri": "https://localhost:8080/"
        },
        "id": "et6-Gif_AvZe",
        "outputId": "50729be0-3817-4df0-f86b-40138c929692"
      },
      "outputs": [
        {
          "data": {
            "text/plain": [
              "array([False, False,  True,  True,  True])"
            ]
          },
          "execution_count": 44,
          "metadata": {},
          "output_type": "execute_result"
        }
      ],
      "source": [
        "# 논리적인 인덱싱\n",
        "ages=np.array([18,19,25,30,28])\n",
        "ages>20"
      ]
    },
    {
      "cell_type": "code",
      "execution_count": null,
      "metadata": {
        "colab": {
          "base_uri": "https://localhost:8080/"
        },
        "id": "78yO3tv8BB21",
        "outputId": "3f7adc39-2ebd-4b74-e363-ce3c3c7302f8"
      },
      "outputs": [
        {
          "data": {
            "text/plain": [
              "array([False, False,  True,  True,  True])"
            ]
          },
          "execution_count": 46,
          "metadata": {},
          "output_type": "execute_result"
        }
      ],
      "source": [
        "y=ages>20\n",
        "y"
      ]
    },
    {
      "cell_type": "code",
      "execution_count": null,
      "metadata": {
        "colab": {
          "base_uri": "https://localhost:8080/"
        },
        "id": "6wK5NuGYBHcc",
        "outputId": "26bc78c1-edaf-426a-e653-a259f8ed4f11"
      },
      "outputs": [
        {
          "data": {
            "text/plain": [
              "array([25, 30, 28])"
            ]
          },
          "execution_count": 47,
          "metadata": {},
          "output_type": "execute_result"
        }
      ],
      "source": [
        "ages[y]"
      ]
    },
    {
      "cell_type": "code",
      "execution_count": null,
      "metadata": {
        "colab": {
          "base_uri": "https://localhost:8080/"
        },
        "id": "jWgMi84hBKUd",
        "outputId": "b8d7592e-6539-4f59-f391-8479b893c093"
      },
      "outputs": [
        {
          "data": {
            "text/plain": [
              "array([25, 30, 28])"
            ]
          },
          "execution_count": 48,
          "metadata": {},
          "output_type": "execute_result"
        }
      ],
      "source": [
        "ages[ages>20]"
      ]
    },
    {
      "cell_type": "markdown",
      "metadata": {
        "id": "LlopJyTudZz7"
      },
      "source": [
        "## 2차원 배열"
      ]
    },
    {
      "cell_type": "code",
      "execution_count": null,
      "metadata": {
        "colab": {
          "base_uri": "https://localhost:8080/"
        },
        "id": "E6FGJbXdBn6k",
        "outputId": "4ead537d-896e-4d27-8821-c9fc22741648"
      },
      "outputs": [
        {
          "name": "stdout",
          "output_type": "stream",
          "text": [
            "[[ 1  2  3]\n",
            " [ 4  5  6]\n",
            " [ 7  8  9]\n",
            " [10 11 12]]\n"
          ]
        }
      ],
      "source": [
        "# 2차원 구조\n",
        "arr2=np.array([[1,2,3],[4,5,6],[7,8,9],[10,11,12]])\n",
        "print(arr2)"
      ]
    },
    {
      "cell_type": "code",
      "execution_count": null,
      "metadata": {
        "colab": {
          "base_uri": "https://localhost:8080/"
        },
        "id": "wBichfDmCAnQ",
        "outputId": "abbf4930-3fea-404d-f01a-6abc2f3fa930"
      },
      "outputs": [
        {
          "data": {
            "text/plain": [
              "2"
            ]
          },
          "execution_count": 52,
          "metadata": {},
          "output_type": "execute_result"
        }
      ],
      "source": [
        "arr2.ndim"
      ]
    },
    {
      "cell_type": "code",
      "execution_count": null,
      "metadata": {
        "colab": {
          "base_uri": "https://localhost:8080/"
        },
        "id": "D6LTlUAJCD76",
        "outputId": "af00bad6-2099-48f1-efa6-70f7f192d6ca"
      },
      "outputs": [
        {
          "data": {
            "text/plain": [
              "(4, 3)"
            ]
          },
          "execution_count": 53,
          "metadata": {},
          "output_type": "execute_result"
        }
      ],
      "source": [
        "arr2.shape"
      ]
    },
    {
      "cell_type": "code",
      "execution_count": null,
      "metadata": {
        "colab": {
          "base_uri": "https://localhost:8080/"
        },
        "id": "JDelCZk-CIwE",
        "outputId": "6f4ef2f0-801c-4c2d-c1f1-b8c52abf63f4"
      },
      "outputs": [
        {
          "name": "stdout",
          "output_type": "stream",
          "text": [
            "4\n",
            "3\n"
          ]
        }
      ],
      "source": [
        "print(arr2.shape[0])\n",
        "print(arr2.shape[1])"
      ]
    },
    {
      "cell_type": "code",
      "execution_count": null,
      "metadata": {
        "colab": {
          "base_uri": "https://localhost:8080/"
        },
        "id": "HwI9EmoACOD8",
        "outputId": "034a09e7-1244-48da-a093-2132f19c992b"
      },
      "outputs": [
        {
          "data": {
            "text/plain": [
              "dtype('int64')"
            ]
          },
          "execution_count": 56,
          "metadata": {},
          "output_type": "execute_result"
        }
      ],
      "source": [
        "arr2.dtype"
      ]
    },
    {
      "cell_type": "markdown",
      "metadata": {
        "id": "y7ViGYaOdZz8"
      },
      "source": [
        "## 2차원 리스트, 슬라이싱"
      ]
    },
    {
      "cell_type": "code",
      "execution_count": null,
      "metadata": {
        "id": "nOGcATC3dZz8",
        "outputId": "f3ac0571-0f0c-4694-b074-d5fec0778d90"
      },
      "outputs": [
        {
          "data": {
            "text/plain": [
              "[[1, 2, 3], [4, 5, 6], [7, 8, 9]]"
            ]
          },
          "execution_count": 1,
          "metadata": {},
          "output_type": "execute_result"
        }
      ],
      "source": [
        "import numpy as np\n",
        "y = [[1,2,3], [4,5,6], [7,8,9]]\n",
        "y"
      ]
    },
    {
      "cell_type": "code",
      "execution_count": null,
      "metadata": {
        "id": "hVfV_K-EdZz8",
        "outputId": "580eb7bf-53de-43e5-b634-679d413573c6"
      },
      "outputs": [
        {
          "data": {
            "text/plain": [
              "array([[1, 2, 3],\n",
              "       [4, 5, 6],\n",
              "       [7, 8, 9]])"
            ]
          },
          "execution_count": 2,
          "metadata": {},
          "output_type": "execute_result"
        }
      ],
      "source": [
        "np_array = np.array(y)\n",
        "np_array"
      ]
    },
    {
      "cell_type": "code",
      "execution_count": null,
      "metadata": {
        "id": "QrFV1qi2dZz8",
        "outputId": "b36457f4-c4ab-41ac-8e26-2e7a14ec1b16"
      },
      "outputs": [
        {
          "name": "stdout",
          "output_type": "stream",
          "text": [
            "(3, 3)\n",
            "2\n",
            "int32\n"
          ]
        }
      ],
      "source": [
        "print(np_array.shape)\n",
        "print(np_array.ndim)\n",
        "print(np_array.dtype)"
      ]
    },
    {
      "cell_type": "code",
      "execution_count": null,
      "metadata": {
        "id": "-rqZ6qqddZz9",
        "outputId": "3ce8c889-ee23-4289-82fc-fed8d34d46b5"
      },
      "outputs": [
        {
          "data": {
            "text/plain": [
              "5"
            ]
          },
          "execution_count": 4,
          "metadata": {},
          "output_type": "execute_result"
        }
      ],
      "source": [
        "np_array[1,1]"
      ]
    },
    {
      "cell_type": "code",
      "execution_count": null,
      "metadata": {
        "id": "23BR3tWadZz9",
        "outputId": "99f1f0c7-2591-4937-9940-bed535e02466"
      },
      "outputs": [
        {
          "data": {
            "text/plain": [
              "7"
            ]
          },
          "execution_count": 5,
          "metadata": {},
          "output_type": "execute_result"
        }
      ],
      "source": [
        "np_array[2,0]"
      ]
    },
    {
      "cell_type": "code",
      "execution_count": null,
      "metadata": {
        "id": "HCqzV8x-dZz9",
        "outputId": "54003a19-2a68-4765-e895-778d41de9aa0"
      },
      "outputs": [
        {
          "data": {
            "text/plain": [
              "array([[   1,    2,    3],\n",
              "       [   4,    5,    6],\n",
              "       [   7,    8, 1000]])"
            ]
          },
          "execution_count": 6,
          "metadata": {},
          "output_type": "execute_result"
        }
      ],
      "source": [
        "np_array[2,2] = 1000\n",
        "np_array"
      ]
    },
    {
      "cell_type": "code",
      "execution_count": null,
      "metadata": {
        "id": "naUO7osydZz9",
        "outputId": "30b3be17-5a2f-4c02-cde9-1185bd5919ce"
      },
      "outputs": [
        {
          "data": {
            "text/plain": [
              "array([[ 1,  2,  3,  4],\n",
              "       [ 5,  6,  7,  8],\n",
              "       [ 9, 10, 11, 12],\n",
              "       [13, 14, 15, 16]])"
            ]
          },
          "execution_count": 7,
          "metadata": {},
          "output_type": "execute_result"
        }
      ],
      "source": [
        "import numpy as np\n",
        "np_array = np.array([[1,2,3,4],[5,6,7,8],[9,10,11,12],[13,14,15,16]])\n",
        "np_array"
      ]
    },
    {
      "cell_type": "code",
      "execution_count": null,
      "metadata": {
        "id": "QP6BbEVmdZz9",
        "outputId": "a8f75d99-d92b-44aa-ba8f-61f02c45d41e"
      },
      "outputs": [
        {
          "data": {
            "text/plain": [
              "array([[3, 4],\n",
              "       [7, 8]])"
            ]
          },
          "execution_count": 8,
          "metadata": {},
          "output_type": "execute_result"
        }
      ],
      "source": [
        "np_array[0:2, 2:4]"
      ]
    },
    {
      "cell_type": "code",
      "execution_count": null,
      "metadata": {
        "id": "4Eq7CPWHdZz9",
        "outputId": "9be5c1fe-9ef8-4b26-b88b-faca4ca8cb8a"
      },
      "outputs": [
        {
          "data": {
            "text/plain": [
              "array([1, 2, 3, 4])"
            ]
          },
          "execution_count": 9,
          "metadata": {},
          "output_type": "execute_result"
        }
      ],
      "source": [
        "np_array[0, :]"
      ]
    },
    {
      "cell_type": "code",
      "execution_count": null,
      "metadata": {
        "id": "n0cjSM12dZz9",
        "outputId": "19d9386a-89b5-4bc0-d061-044ce58e1092"
      },
      "outputs": [
        {
          "data": {
            "text/plain": [
              "array([6, 7])"
            ]
          },
          "execution_count": 10,
          "metadata": {},
          "output_type": "execute_result"
        }
      ],
      "source": [
        "np_array[1, 1:3]"
      ]
    },
    {
      "cell_type": "code",
      "execution_count": null,
      "metadata": {
        "id": "xMYcJqUwdZz9",
        "outputId": "b07081c2-4678-4562-b4c7-04a29104742a"
      },
      "outputs": [
        {
          "data": {
            "text/plain": [
              "array([ 6,  7,  8,  9, 10, 11, 12, 13, 14, 15, 16])"
            ]
          },
          "execution_count": 11,
          "metadata": {},
          "output_type": "execute_result"
        }
      ],
      "source": [
        "np_array[np_array>5]"
      ]
    },
    {
      "cell_type": "markdown",
      "metadata": {
        "id": "h2FVsF9_dZz-"
      },
      "source": [
        "## arange()"
      ]
    },
    {
      "cell_type": "code",
      "execution_count": null,
      "metadata": {
        "id": "pJ0lXWX_dZz-",
        "outputId": "2d4f3fa9-7b5b-4669-d317-1c3c982160d7"
      },
      "outputs": [
        {
          "data": {
            "text/plain": [
              "array([0, 1, 2, 3, 4])"
            ]
          },
          "execution_count": 13,
          "metadata": {},
          "output_type": "execute_result"
        }
      ],
      "source": [
        "np.array(range(5))"
      ]
    },
    {
      "cell_type": "code",
      "execution_count": null,
      "metadata": {
        "id": "inwzWYx6dZz-",
        "outputId": "483a9df0-6841-4d8f-8fd8-959b45c99d7f"
      },
      "outputs": [
        {
          "data": {
            "text/plain": [
              "array([0, 1, 2, 3, 4])"
            ]
          },
          "execution_count": 14,
          "metadata": {},
          "output_type": "execute_result"
        }
      ],
      "source": [
        "np.arange(5)"
      ]
    },
    {
      "cell_type": "code",
      "execution_count": null,
      "metadata": {
        "id": "FO_44XMqdZz-",
        "outputId": "8c97f9c6-9a42-495c-fa94-d9e5d6a8f499"
      },
      "outputs": [
        {
          "data": {
            "text/plain": [
              "array([1, 2, 3, 4, 5])"
            ]
          },
          "execution_count": 15,
          "metadata": {},
          "output_type": "execute_result"
        }
      ],
      "source": [
        "np.arange(1,6)"
      ]
    },
    {
      "cell_type": "code",
      "execution_count": null,
      "metadata": {
        "id": "horB1-rhdZz-",
        "outputId": "f2ed6812-0df8-48b3-886d-1bc6ce2ffd7e"
      },
      "outputs": [
        {
          "data": {
            "text/plain": [
              "array([1, 3, 5])"
            ]
          },
          "execution_count": 16,
          "metadata": {},
          "output_type": "execute_result"
        }
      ],
      "source": [
        "np.arange(1,6,2)"
      ]
    },
    {
      "cell_type": "markdown",
      "metadata": {
        "id": "vOP-ejcDdZz-"
      },
      "source": [
        "## linspace()"
      ]
    },
    {
      "cell_type": "code",
      "execution_count": null,
      "metadata": {
        "id": "dkKO1aDOdZz_",
        "outputId": "7ff6cdba-1419-4011-e50f-4c2c447de5d6"
      },
      "outputs": [
        {
          "data": {
            "text/plain": [
              "array([ 0.        ,  0.1010101 ,  0.2020202 ,  0.3030303 ,  0.4040404 ,\n",
              "        0.50505051,  0.60606061,  0.70707071,  0.80808081,  0.90909091,\n",
              "        1.01010101,  1.11111111,  1.21212121,  1.31313131,  1.41414141,\n",
              "        1.51515152,  1.61616162,  1.71717172,  1.81818182,  1.91919192,\n",
              "        2.02020202,  2.12121212,  2.22222222,  2.32323232,  2.42424242,\n",
              "        2.52525253,  2.62626263,  2.72727273,  2.82828283,  2.92929293,\n",
              "        3.03030303,  3.13131313,  3.23232323,  3.33333333,  3.43434343,\n",
              "        3.53535354,  3.63636364,  3.73737374,  3.83838384,  3.93939394,\n",
              "        4.04040404,  4.14141414,  4.24242424,  4.34343434,  4.44444444,\n",
              "        4.54545455,  4.64646465,  4.74747475,  4.84848485,  4.94949495,\n",
              "        5.05050505,  5.15151515,  5.25252525,  5.35353535,  5.45454545,\n",
              "        5.55555556,  5.65656566,  5.75757576,  5.85858586,  5.95959596,\n",
              "        6.06060606,  6.16161616,  6.26262626,  6.36363636,  6.46464646,\n",
              "        6.56565657,  6.66666667,  6.76767677,  6.86868687,  6.96969697,\n",
              "        7.07070707,  7.17171717,  7.27272727,  7.37373737,  7.47474747,\n",
              "        7.57575758,  7.67676768,  7.77777778,  7.87878788,  7.97979798,\n",
              "        8.08080808,  8.18181818,  8.28282828,  8.38383838,  8.48484848,\n",
              "        8.58585859,  8.68686869,  8.78787879,  8.88888889,  8.98989899,\n",
              "        9.09090909,  9.19191919,  9.29292929,  9.39393939,  9.49494949,\n",
              "        9.5959596 ,  9.6969697 ,  9.7979798 ,  9.8989899 , 10.        ])"
            ]
          },
          "execution_count": 17,
          "metadata": {},
          "output_type": "execute_result"
        }
      ],
      "source": [
        "np.linspace(0,10,100)"
      ]
    },
    {
      "cell_type": "markdown",
      "metadata": {
        "id": "yOTjB0CZdZz_"
      },
      "source": [
        "## reshape()"
      ]
    },
    {
      "cell_type": "code",
      "execution_count": null,
      "metadata": {
        "id": "dJaTkDppdZz_",
        "outputId": "fba5b27a-f485-4ffe-d566-852175d40eb5"
      },
      "outputs": [
        {
          "data": {
            "text/plain": [
              "array([ 0,  1,  2,  3,  4,  5,  6,  7,  8,  9, 10, 11])"
            ]
          },
          "execution_count": 18,
          "metadata": {},
          "output_type": "execute_result"
        }
      ],
      "source": [
        "y = np.arange(12)\n",
        "y"
      ]
    },
    {
      "cell_type": "code",
      "execution_count": null,
      "metadata": {
        "id": "xprUpBu6dZz_",
        "outputId": "63c0a3d3-7d66-439d-cca4-c5bef7f0ce46"
      },
      "outputs": [
        {
          "data": {
            "text/plain": [
              "array([[ 0,  1,  2,  3],\n",
              "       [ 4,  5,  6,  7],\n",
              "       [ 8,  9, 10, 11]])"
            ]
          },
          "execution_count": 19,
          "metadata": {},
          "output_type": "execute_result"
        }
      ],
      "source": [
        "yy = y.reshape(3,4)\n",
        "yy"
      ]
    },
    {
      "cell_type": "code",
      "execution_count": null,
      "metadata": {
        "id": "bV0KRtjYdZz_",
        "outputId": "9c68a30f-667a-4ffa-c053-95df8624b7b1"
      },
      "outputs": [
        {
          "data": {
            "text/plain": [
              "array([[ 0,  1,  2,  3],\n",
              "       [ 4,  5,  6,  7],\n",
              "       [ 8,  9, 10, 11]])"
            ]
          },
          "execution_count": 21,
          "metadata": {},
          "output_type": "execute_result"
        }
      ],
      "source": [
        "# -1을 인수로 전달하면 데이터의 개수에 맞춰서 자동으로\n",
        "yyy = y.reshape(-1,4)\n",
        "yyy"
      ]
    },
    {
      "cell_type": "code",
      "execution_count": null,
      "metadata": {
        "id": "S0PP6p25dZz_",
        "outputId": "71f22520-3f53-4b11-cfee-e79afad699cb"
      },
      "outputs": [
        {
          "data": {
            "text/plain": [
              "array([[ 0],\n",
              "       [ 1],\n",
              "       [ 2],\n",
              "       [ 3],\n",
              "       [ 4],\n",
              "       [ 5],\n",
              "       [ 6],\n",
              "       [ 7],\n",
              "       [ 8],\n",
              "       [ 9],\n",
              "       [10],\n",
              "       [11]])"
            ]
          },
          "execution_count": 22,
          "metadata": {},
          "output_type": "execute_result"
        }
      ],
      "source": [
        "y.reshape(-1,1)"
      ]
    },
    {
      "cell_type": "markdown",
      "metadata": {
        "id": "NvQr-7YXdZ0A"
      },
      "source": [
        "## flatten()"
      ]
    },
    {
      "cell_type": "code",
      "execution_count": null,
      "metadata": {
        "id": "TLv4i95ddZ0A",
        "outputId": "3a10e1c4-08e3-427d-cd6f-e90fc915930f"
      },
      "outputs": [
        {
          "data": {
            "text/plain": [
              "array([ 0,  1,  2,  3,  4,  5,  6,  7,  8,  9, 10, 11])"
            ]
          },
          "execution_count": 23,
          "metadata": {},
          "output_type": "execute_result"
        }
      ],
      "source": [
        "yyy.flatten()"
      ]
    }
  ],
  "metadata": {
    "colab": {
      "provenance": [],
      "include_colab_link": true
    },
    "kernelspec": {
      "display_name": "Python 3",
      "name": "python3"
    },
    "language_info": {
      "codemirror_mode": {
        "name": "ipython",
        "version": 3
      },
      "file_extension": ".py",
      "mimetype": "text/x-python",
      "name": "python",
      "nbconvert_exporter": "python",
      "pygments_lexer": "ipython3",
      "version": "3.11.2"
    }
  },
  "nbformat": 4,
  "nbformat_minor": 0
}