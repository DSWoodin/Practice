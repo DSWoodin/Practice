{
  "nbformat": 4,
  "nbformat_minor": 0,
  "metadata": {
    "colab": {
      "provenance": [],
      "include_colab_link": true
    },
    "kernelspec": {
      "name": "python3",
      "display_name": "Python 3"
    },
    "language_info": {
      "name": "python"
    }
  },
  "cells": [
    {
      "cell_type": "markdown",
      "metadata": {
        "id": "view-in-github",
        "colab_type": "text"
      },
      "source": [
        "<a href=\"https://colab.research.google.com/github/DSWoodin/Practice/blob/main/PKNU_5th/02_ML/03_GridSearchCV.ipynb\" target=\"_parent\"><img src=\"https://colab.research.google.com/assets/colab-badge.svg\" alt=\"Open In Colab\"/></a>"
      ]
    },
    {
      "cell_type": "markdown",
      "source": [
        "### 강의 분량\n",
        "* 07월15일(월) 1시간\n",
        "\n",
        "### 강의 자료\n",
        "* GridSearchCV+평가(threshold).ipynb\n",
        "* GridSearchCV+평가(threshold).txt\n",
        "\n",
        "### 이 장에서 배우는 것\n",
        "* GridSearchCV 보충학습\n",
        "* threshold를 적용한 평가(보충학습)"
      ],
      "metadata": {
        "id": "fxsND_oKPlVp"
      }
    },
    {
      "cell_type": "markdown",
      "source": [
        "# GridSearchCV(붓꽃 데이터)"
      ],
      "metadata": {
        "id": "TVgRN7HmWIeL"
      }
    },
    {
      "cell_type": "code",
      "source": [
        "from sklearn.datasets import load_iris\n",
        "from sklearn.tree import DecisionTreeClassifier\n",
        "from sklearn.model_selection import train_test_split # Import train_test_split here\n",
        "from sklearn.model_selection import GridSearchCV\n",
        "\n",
        "# 데이터를 로딩하고 학습데이타와 테스트 데이터 분리\n",
        "iris = load_iris()\n",
        "X_train, X_test, y_train, y_test = train_test_split(iris.data, iris.target, # Use iris instead of iris_data\n",
        "                                                    test_size=0.2, random_state=121)\n",
        "dtree = DecisionTreeClassifier()\n",
        "\n",
        "### parameter 들을 dictionary 형태로 설정\n",
        "parameters = {'max_depth':[1,2,3], 'min_samples_split':[2,3]}\n",
        "\n",
        "import pandas as pd\n",
        "\n",
        "# param_grid의 하이퍼 파라미터들을 3개의 train, test set fold 로 나누어서 테스트 수행 설정.\n",
        "### refit=True 가 default 임. True이면 가장 좋은 파라미터 설정으로 재 학습 시킴.\n",
        "grid_dtree = GridSearchCV(dtree, param_grid=parameters, cv=3, refit=True)\n",
        "\n",
        "# 붓꽃 Train 데이터로 param_grid의 하이퍼 파라미터들을 순차적으로 학습/평가 .\n",
        "grid_dtree.fit(X_train, y_train)\n",
        "\n",
        "# GridSearchCV 결과 추출하여 DataFrame으로 변환\n",
        "scores_df = pd.DataFrame(grid_dtree.cv_results_)\n",
        "scores_df[['params', 'mean_test_score', 'rank_test_score', \\\n",
        "           'split0_test_score', 'split1_test_score', 'split2_test_score']]\n",
        "\n",
        "# 최적 하이퍼 파라미터의 값과 그때의 정확도\n",
        "print('GridSearchCV 최적 파라미터:', grid_dtree.best_params_)\n",
        "print('GridSearchCV 최고 정확도: {0:.4f}'.format(grid_dtree.best_score_))\n",
        "\n",
        "# GridSearchCV의 refit으로 이미 학습이 된 estimator 반환\n",
        "estimator = grid_dtree.best_estimator_\n",
        "\n",
        "# GridSearchCV의 best_estimator_는 이미 최적 하이퍼 파라미터로 학습이 됨\n",
        "pred = estimator.predict(X_test)\n",
        "from sklearn.metrics import accuracy_score # Import accuracy_score\n",
        "print('테스트 데이터 세트 정확도: {0:.4f}'.format(accuracy_score(y_test,pred)))"
      ],
      "metadata": {
        "colab": {
          "base_uri": "https://localhost:8080/"
        },
        "id": "Y4WZXzBOVArK",
        "outputId": "526f657c-b0d8-45d0-cb6a-9c28feecb9da"
      },
      "execution_count": null,
      "outputs": [
        {
          "output_type": "stream",
          "name": "stdout",
          "text": [
            "GridSearchCV 최적 파라미터: {'max_depth': 3, 'min_samples_split': 2}\n",
            "GridSearchCV 최고 정확도: 0.9750\n",
            "테스트 데이터 세트 정확도: 0.9667\n"
          ]
        }
      ]
    },
    {
      "cell_type": "code",
      "source": [
        "# 하이퍼파라미터를 max_depth: [2, 3, 4, 5], min_samples_split: [2, 5, 10]로 하고 cv=5인 GridSearchCV\n",
        "\n",
        "from sklearn.datasets import load_iris\n",
        "from sklearn.model_selection import GridSearchCV\n",
        "from sklearn.tree import DecisionTreeClassifier\n",
        "\n",
        "# 붓꽃 데이터 로드\n",
        "iris = load_iris()\n",
        "X = iris.data\n",
        "y = iris.target\n",
        "\n",
        "# Decision Tree Classifier 모델 생성\n",
        "clf = DecisionTreeClassifier()\n",
        "\n",
        "# 하이퍼파라미터 조합 설정\n",
        "param_grid = {'max_depth': [2, 3, 4, 5],\n",
        "              'min_samples_split': [2, 5, 10]}\n",
        "\n",
        "# GridSearchCV 객체 생성\n",
        "grid_search = GridSearchCV(clf, param_grid, cv=5)\n",
        "\n",
        "# GridSearchCV 실행\n",
        "grid_search.fit(X, y)\n",
        "\n",
        "# 최적의 하이퍼파라미터 출력\n",
        "print(\"최적의 하이퍼파라미터:\", grid_search.best_params_)\n",
        "\n",
        "# 최고 성능 모델의 예측 정확도\n",
        "print(\"최고 정확도:\", grid_search.best_score_)"
      ],
      "metadata": {
        "colab": {
          "base_uri": "https://localhost:8080/"
        },
        "id": "Elqq-zeTVaZP",
        "outputId": "7050bfe8-be0e-45f6-bcd7-d2d708c3fc68"
      },
      "execution_count": null,
      "outputs": [
        {
          "output_type": "stream",
          "name": "stdout",
          "text": [
            "최적의 하이퍼파라미터: {'max_depth': 3, 'min_samples_split': 2}\n",
            "최고 정확도: 0.9733333333333334\n"
          ]
        }
      ]
    },
    {
      "cell_type": "markdown",
      "source": [
        "# 타이타닉 로지스틱 회귀 (또는 DecisionTreeClassifier)모형의 threshold를 적용한 평가"
      ],
      "metadata": {
        "id": "BWtx4RqfWYUj"
      }
    },
    {
      "cell_type": "code",
      "source": [
        "import pandas as pd\n",
        "import numpy as np\n",
        "from sklearn.model_selection import train_test_split\n",
        "from sklearn.linear_model import LogisticRegression\n",
        "#from sklearn.tree import DecisionTreeClassifier\n",
        "from sklearn.metrics import accuracy_score, precision_score, recall_score, f1_score, roc_auc_score\n",
        "from sklearn.metrics import roc_curve\n",
        "import matplotlib.pyplot as plt\n",
        "from sklearn.preprocessing import OneHotEncoder # Import OneHotEncoder for categorical feature handling\n",
        "\n",
        "def evaluate_model(y_true, y_prob, threshold=0.5):\n",
        "    \"\"\"\n",
        "    다양한 평가 지표를 계산하는 함수\n",
        "\n",
        "    Args:\n",
        "        y_true: 실제 클래스\n",
        "        y_prob: 예측 확률\n",
        "        threshold: 임계값\n",
        "\n",
        "    Returns:\n",
        "        dict: 각 평가 지표 값을 담은 딕셔너리\n",
        "    \"\"\"\n",
        "\n",
        "    y_pred = (y_prob >= threshold).astype(int)\n",
        "    accuracy = accuracy_score(y_true, y_pred)\n",
        "    precision = precision_score(y_true, y_pred)\n",
        "    recall = recall_score(y_true, y_pred)\n",
        "    f1 = f1_score(y_true, y_pred)\n",
        "    fpr, tpr, _ = roc_curve(y_true, y_prob)\n",
        "    auc = roc_auc_score(y_true, y_prob)\n",
        "\n",
        "    return {'accuracy': f\"{accuracy:.4f}\",\n",
        "            'precision': f\"{precision:.4f}\",\n",
        "            'recall': f\"{recall:.4f}\",\n",
        "            'f1-score': f\"{f1:.4f}\",\n",
        "            'AUC': f\"{auc:.4f}\"}\n",
        "\n",
        "# 타이타닉 데이터 로드 (예시: pandas를 사용하여 코랩에서 CSV 파일 읽어오기)\n",
        "from google.colab import drive\n",
        "drive.mount('/content/drive')\n",
        "file_path = ('/content/drive/MyDrive/data_머신러닝/titanic_train.csv')\n",
        "\n",
        "data = pd.read_csv(file_path)\n",
        "\n",
        "# 필요한 특징과 타겟 변수 선택\n",
        "X = data[['Pclass', 'Sex', 'Age', 'Fare']]  # 예시: 몇 가지 특징 선택\n",
        "y = data['Survived']\n",
        "\n",
        "# 데이터 전처리 (결측치 처리, 원-핫 인코딩 등)\n",
        "# Fill missing values in 'Age' with the median age\n",
        "X['Age'].fillna(X['Age'].median(), inplace=True) #또는 mean()\n",
        "\n",
        "# Convert 'Sex' to numerical using one-hot encoding\n",
        "encoder = OneHotEncoder(handle_unknown='ignore') #기존에 학습된 범주만 인코딩\n",
        "encoded_sex = encoder.fit_transform(X[['Sex']]).toarray()\n",
        "encoded_sex_df = pd.DataFrame(encoded_sex, columns=encoder.get_feature_names_out(['Sex']))\n",
        "X = pd.concat([X, encoded_sex_df], axis=1)\n",
        "X.drop('Sex', axis=1, inplace=True) # Remove original 'Sex' column\n",
        "\n",
        "# 학습 데이터와 테스트 데이터 분리\n",
        "X_train, X_test, y_train, y_test = train_test_split(X, y, test_size=0.2, random_state=42)\n",
        "\n",
        "# 로지스틱 회귀(또는 DecisionTreeClassifier) 모델 생성 및 학습\n",
        "model = LogisticRegression()\n",
        "#model = DecisionTreeClassifier() # DecisionTreeClassifier 모델 생성 및 학습\n",
        "model.fit(X_train, y_train)\n",
        "\n",
        "# 테스트 데이터 예측 확률 계산\n",
        "y_prob = model.predict_proba(X_test)[:, 1]  # 양성 클래스에 대한 예측 확률\n",
        "\n",
        "# 다양한 임계값 설정하여 평가\n",
        "for threshold in [0.3, 0.5, 0.7]:\n",
        "    result = evaluate_model(y_test, y_prob, threshold)\n",
        "    print(f\"Threshold: {threshold}\")\n",
        "    print(result)\n",
        "\n",
        "# ROC 곡선 시각화\n",
        "fpr, tpr, _ = roc_curve(y_test, y_prob)\n",
        "plt.plot(fpr, tpr, label='ROC curve')\n",
        "plt.plot([0, 1], [0, 1], 'k--')\n",
        "plt.xlabel('False Positive Rate')\n",
        "plt.ylabel('True Positive Rate')\n",
        "plt.title('ROC Curve')\n",
        "plt.show()\n"
      ],
      "metadata": {
        "colab": {
          "base_uri": "https://localhost:8080/",
          "height": 712
        },
        "id": "wWitd0JfWmk0",
        "outputId": "d6b4ca97-e79e-4b47-b4c3-9a9116911347"
      },
      "execution_count": null,
      "outputs": [
        {
          "output_type": "stream",
          "name": "stdout",
          "text": [
            "Mounted at /content/drive\n"
          ]
        },
        {
          "output_type": "stream",
          "name": "stderr",
          "text": [
            "<ipython-input-4-14f03fe8bbab>:51: SettingWithCopyWarning: \n",
            "A value is trying to be set on a copy of a slice from a DataFrame\n",
            "\n",
            "See the caveats in the documentation: https://pandas.pydata.org/pandas-docs/stable/user_guide/indexing.html#returning-a-view-versus-a-copy\n",
            "  X['Age'].fillna(X['Age'].median(), inplace=True) #또는 mean()\n"
          ]
        },
        {
          "output_type": "stream",
          "name": "stdout",
          "text": [
            "Threshold: 0.3\n",
            "{'accuracy': '0.8045', 'precision': '0.7097', 'recall': '0.8919', 'f1-score': '0.7904', 'AUC': '0.8746'}\n",
            "Threshold: 0.5\n",
            "{'accuracy': '0.7989', 'precision': '0.7794', 'recall': '0.7162', 'f1-score': '0.7465', 'AUC': '0.8746'}\n",
            "Threshold: 0.7\n",
            "{'accuracy': '0.7877', 'precision': '0.9286', 'recall': '0.5270', 'f1-score': '0.6724', 'AUC': '0.8746'}\n"
          ]
        },
        {
          "output_type": "display_data",
          "data": {
            "text/plain": [
              "<Figure size 640x480 with 1 Axes>"
            ],
            "image/png": "[encoded data removed]"
          },
          "metadata": {}
        }
      ]
    }
  ]
}